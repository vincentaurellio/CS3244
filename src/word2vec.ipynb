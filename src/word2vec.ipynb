{
 "cells": [
  {
   "cell_type": "code",
   "execution_count": 1,
   "id": "e76163c4",
   "metadata": {},
   "outputs": [],
   "source": [
    "import numpy as np\n",
    "import pandas as pd\n",
    "from nltk.tokenize import word_tokenize\n",
    "from nltk.corpus import stopwords\n",
    "from nltk.stem import PorterStemmer\n",
    "from sklearn.metrics.pairwise import cosine_similarity\n",
    "from sklearn.feature_extraction.text import TfidfVectorizer\n",
    "import string\n",
    "import matplotlib.pyplot as plt"
   ]
  },
  {
   "cell_type": "code",
   "execution_count": 2,
   "id": "f70c56b3",
   "metadata": {},
   "outputs": [],
   "source": [
    "df_movie_details = pd.read_json('../data/IMDB_movie_details.json', lines = True)\n",
    "df_reviews = pd.read_pickle('../data/cleaned_reviews.pkl.gz', compression = 'gzip')"
   ]
  },
  {
   "cell_type": "code",
   "execution_count": 3,
   "id": "3343d50b",
   "metadata": {},
   "outputs": [],
   "source": [
    "#Tokenize\n",
    "df_movie_details['tokenized_synopsis'] = list(map(word_tokenize, df_movie_details['plot_synopsis']))"
   ]
  },
  {
   "cell_type": "code",
   "execution_count": 4,
   "id": "3f8c3f31",
   "metadata": {},
   "outputs": [],
   "source": [
    "# Remove stop words\n",
    "stop_words_and_punctuations = set(stopwords.words('english') + list(string.punctuation))\n",
    "df_movie_details['tokenized_synopsis'] = list(map(lambda x: [word.lower() for word in x if word.lower() not in stop_words_and_punctuations], df_movie_details['tokenized_synopsis']))"
   ]
  },
  {
   "cell_type": "code",
   "execution_count": 5,
   "id": "71eda1ab",
   "metadata": {},
   "outputs": [],
   "source": [
    "# Stemming\n",
    "stemmer = PorterStemmer()\n",
    "df_movie_details['tokenized_synopsis'] = list(map(lambda x: [stemmer.stem(word) for word in x], df_movie_details['tokenized_synopsis']))"
   ]
  },
  {
   "cell_type": "code",
   "execution_count": 6,
   "id": "2dccd5e6",
   "metadata": {},
   "outputs": [],
   "source": [
    "df_movie_details['text_tokenized'] = list(map(lambda x: ' '.join(x), df_movie_details['tokenized_synopsis']))\n",
    "df_movie_details = df_movie_details[df_movie_details['text_tokenized'] != '']\n",
    "df_reviews = df_reviews[df_reviews['movie_id'].isin(df_movie_details['movie_id'])]\n",
    "df_movie_details.to_pickle(\"../data/cleaned_synopsis.pkl.gz\", compression = 'gzip')"
   ]
  },
  {
   "cell_type": "code",
   "execution_count": 3,
   "id": "5b795d15",
   "metadata": {},
   "outputs": [],
   "source": [
    "df_movie_details = pd.read_pickle(\"../data/cleaned_synopsis.pkl.gz\", compression = \"gzip\")"
   ]
  },
  {
   "cell_type": "code",
   "execution_count": 12,
   "metadata": {},
   "outputs": [
    {
     "data": {
      "text/plain": [
       "\"jack ryan ford `` work vacat '' london famili retir cia professor us naval academi seen deliv lectur royal naval academi london.meanwhil ryan 's wife cathi daughter salli sightse near buckingham palac salli cathi come upon british royal guard salli tri get guard react improvis tap danc front 's impress guard train ignor distract n't react leave.a salli cathi walk away guard en rout rendezv ryan walk stolen cab sit three ulster liber armi terrorist kevin o'donnel driver well sean miller sean bean younger brother patrick three load bullet gun prepar carri schedul ambush lord william holm british secretari state northern ireland distant member british royal famili cousin queen mother finish load weapon anoth terrorist annett radio lord holm leav palac wife son.a lord holm 's car leav palac terrorist car fall line behind follow car head ambush point drive o'donnel miller brother ski masks.meanwhil ryan cross street meet wife daughter arriv time lord holm 's car pass area.suddenli anoth cab park side road driven annett pull swerv front lord holm 's vehicl simultan o'donnel 's vehicl swerv stop behind car miller anoth accomplic jump quickli plant bomb underneath chauffeur car 's engin ryan see 's go hastili get famili cover bomb deton moment later sean anoth accomplic begin shoot car riddl lord holm 's driver bodyguard bullet onslaught bullet kill lord holm current use bodi shield famili sean march rear door order lord holm car gunpoint ryan unabl stand bystand immedi break cover run behind miller disarm ryan grab sean 's pistol get shot left shoulder anoth terrorist shoot one terrorist shoulder patrick attempt flee ryan fatal shoot chest see two royal guard race toward scene remain terrorist quickli get back car drive leav sean captur author arriv retreat back warehous chang licens plates.whil recov ryan call testifi miller wit subsequ miller convict charg sentenc life prison ryan award order knight command victorian order eventu return unit states.on possibl miller 's ula comrad might tri liber author take chanc extent set decoy convoy day miller transfer albani prison isl wight howev someon manag tip ula convoy carri miller miller 's motorcad transit come stop drawbridg rais bridg howev trap meant block moment convoy come stop miller 's comrad attack use rocket launcher blow car front rear convoy march prison van order guard gunpoint take bridg oper hostag threaten shoot one guard hesit shot fatal offic inspector pull thrown ground forc lie stomach o'donnel hand miller pistol coldli execut offic bridg oper shoot back head depart scene.mil companion flee cargo ship britain libya prepar next kidnap attempt lord holm miller howev shake anger toward ryan kill younger brother persuad sever member entourag accompani unit state short mission target ryan family.mil travel unit state accompani annett comrad ned clark fourth henchman annett clark travel unit state naval academi ambush ryan 's leav work ryan notic clark idl nearbi clark casual walk away ryan clearli unnerv get even nervou hear car engin start suspicion well warranted-a continu walk street look reflect park van 's rearview door see clark stolen car driven annett follow ryan pretend see 's walk past park panel truck point duck behind truck clark draw silenc pistol prepar corner ryan ryan attack first clark quickli get upper hand throw ryan curb grab pistol shoot ryan 's shot dead us marin sentri annett quickli drive away jeep ryan realiz miller go target cathi salli jump car drive off.simultan miller henchman follow cathi pick salli school miller ride shotgun prepar follow two temporarili held cross guard cross guard clear pursu us highway 50 ryan tri frantic call cathi car phone busi answer phone call hospit 's tri connect miller henchman recklessli weav traffic catch cathi ryan eventu get cathi tell get highway find nearest polic station unfortun call end miller 's van come charg use left shoulder miller move backseat van grab submachin gun slide open door anoth car momentarili delay clear aim miller open fire spray cathi 's car bullet multicar pileup ensu cathi lose control car crash head-on concret barrier ryan found stuck traffic head direct see smoke crash realiz worst.cathi salli airlift nearbi hospit treatment enrag near-loss famili ryan decid go back work cia earlier reject appeal former superior vice admir jame greer jame earl jone .ryan 's tireless work lead conclud miller taken refug train camp one mani locat libya also determin recent new arriv camp may one o'donnel 's english inform denni cooley ryan make recommend superior cia greer invit jack live feed sa strike team attack camp everyon camp elimin unbeknownst cia ryan miller companion alreadi fled camp way us stage next attack lord holmes.lord holm decid visit ryan home formal present kcvo aid lord holm traitor assist miller 's group track holm locat kill diplomat secur servic agent maryland state trooper guard hous attempt kidnap lord holm ryan lead holm famili safeti attempt lure miller companion away home.th fbi hostag rescu team scrambl pick holm upon realis ryan lead away holm miller 's companion tri persuad miller turn around enrag derang miller kill terrorist companion continu pursuit ryan ryan miller fight hand hand miller kill ryan impal backward boat anchor bodi obliter subsequ explos craft.credit roll carolin ryan learn gender child go tell jack salli\""
      ]
     },
     "execution_count": 12,
     "metadata": {},
     "output_type": "execute_result"
    }
   ],
   "source": [
    "df_movie_details['text_tokenized'][0]"
   ]
  },
  {
   "cell_type": "code",
   "execution_count": 4,
   "id": "bcc3b75e",
   "metadata": {},
   "outputs": [],
   "source": [
    "df_reviews = df_reviews.drop(df_reviews[df_reviews.movie_id == \"tt0104014\"].index)\n",
    "df_reviews = df_reviews.drop(df_reviews[df_reviews.movie_id == \"tt0114142\"].index)"
   ]
  },
  {
   "cell_type": "code",
   "execution_count": 78,
   "id": "31b19cd3",
   "metadata": {},
   "outputs": [
    {
     "name": "stdout",
     "output_type": "stream",
     "text": [
      "tt0104014\n",
      "tt0114142\n"
     ]
    }
   ],
   "source": [
    "movie_list = set(df_movie_details[\"movie_id\"])\n",
    "for movie_id in list(df_reviews[\"movie_id\"].unique()):\n",
    "    if movie_id not in movie_list:\n",
    "        print(movie_id)"
   ]
  },
  {
   "cell_type": "code",
   "execution_count": 7,
   "id": "476d182f",
   "metadata": {},
   "outputs": [],
   "source": [
    "def fit_vectorizer(synopsis):\n",
    "    vectorizer = TfidfVectorizer(stop_words='english')\n",
    "    vectorizer.fit([synopsis])\n",
    "    return vectorizer\n",
    "\n",
    "# Apply the function to create a new column 'vectorizer'\n",
    "df_movie_details['vectorizer'] = df_movie_details['text_tokenized'].apply(fit_vectorizer)"
   ]
  },
  {
   "cell_type": "code",
   "execution_count": 23,
   "metadata": {},
   "outputs": [
    {
     "name": "stdout",
     "output_type": "stream",
     "text": [
      "TfidfVectorizer(stop_words='english')\n",
      "[\"jack ryan ford `` work vacat '' london famili retir cia professor us naval academi seen deliv lectur royal naval academi london.meanwhil ryan 's wife cathi daughter salli sightse near buckingham palac salli cathi come upon british royal guard salli tri get guard react improvis tap danc front 's impress guard train ignor distract n't react leave.a salli cathi walk away guard en rout rendezv ryan walk stolen cab sit three ulster liber armi terrorist kevin o'donnel driver well sean miller sean bean younger brother patrick three load bullet gun prepar carri schedul ambush lord william holm british secretari state northern ireland distant member british royal famili cousin queen mother finish load weapon anoth terrorist annett radio lord holm leav palac wife son.a lord holm 's car leav palac terrorist car fall line behind follow car head ambush point drive o'donnel miller brother ski masks.meanwhil ryan cross street meet wife daughter arriv time lord holm 's car pass area.suddenli anoth cab park side road driven annett pull swerv front lord holm 's vehicl simultan o'donnel 's vehicl swerv stop behind car miller anoth accomplic jump quickli plant bomb underneath chauffeur car 's engin ryan see 's go hastili get famili cover bomb deton moment later sean anoth accomplic begin shoot car riddl lord holm 's driver bodyguard bullet onslaught bullet kill lord holm current use bodi shield famili sean march rear door order lord holm car gunpoint ryan unabl stand bystand immedi break cover run behind miller disarm ryan grab sean 's pistol get shot left shoulder anoth terrorist shoot one terrorist shoulder patrick attempt flee ryan fatal shoot chest see two royal guard race toward scene remain terrorist quickli get back car drive leav sean captur author arriv retreat back warehous chang licens plates.whil recov ryan call testifi miller wit subsequ miller convict charg sentenc life prison ryan award order knight command victorian order eventu return unit states.on possibl miller 's ula comrad might tri liber author take chanc extent set decoy convoy day miller transfer albani prison isl wight howev someon manag tip ula convoy carri miller miller 's motorcad transit come stop drawbridg rais bridg howev trap meant block moment convoy come stop miller 's comrad attack use rocket launcher blow car front rear convoy march prison van order guard gunpoint take bridg oper hostag threaten shoot one guard hesit shot fatal offic inspector pull thrown ground forc lie stomach o'donnel hand miller pistol coldli execut offic bridg oper shoot back head depart scene.mil companion flee cargo ship britain libya prepar next kidnap attempt lord holm miller howev shake anger toward ryan kill younger brother persuad sever member entourag accompani unit state short mission target ryan family.mil travel unit state accompani annett comrad ned clark fourth henchman annett clark travel unit state naval academi ambush ryan 's leav work ryan notic clark idl nearbi clark casual walk away ryan clearli unnerv get even nervou hear car engin start suspicion well warranted-a continu walk street look reflect park van 's rearview door see clark stolen car driven annett follow ryan pretend see 's walk past park panel truck point duck behind truck clark draw silenc pistol prepar corner ryan ryan attack first clark quickli get upper hand throw ryan curb grab pistol shoot ryan 's shot dead us marin sentri annett quickli drive away jeep ryan realiz miller go target cathi salli jump car drive off.simultan miller henchman follow cathi pick salli school miller ride shotgun prepar follow two temporarili held cross guard cross guard clear pursu us highway 50 ryan tri frantic call cathi car phone busi answer phone call hospit 's tri connect miller henchman recklessli weav traffic catch cathi ryan eventu get cathi tell get highway find nearest polic station unfortun call end miller 's van come charg use left shoulder miller move backseat van grab submachin gun slide open door anoth car momentarili delay clear aim miller open fire spray cathi 's car bullet multicar pileup ensu cathi lose control car crash head-on concret barrier ryan found stuck traffic head direct see smoke crash realiz worst.cathi salli airlift nearbi hospit treatment enrag near-loss famili ryan decid go back work cia earlier reject appeal former superior vice admir jame greer jame earl jone .ryan 's tireless work lead conclud miller taken refug train camp one mani locat libya also determin recent new arriv camp may one o'donnel 's english inform denni cooley ryan make recommend superior cia greer invit jack live feed sa strike team attack camp everyon camp elimin unbeknownst cia ryan miller companion alreadi fled camp way us stage next attack lord holmes.lord holm decid visit ryan home formal present kcvo aid lord holm traitor assist miller 's group track holm locat kill diplomat secur servic agent maryland state trooper guard hous attempt kidnap lord holm ryan lead holm famili safeti attempt lure miller companion away home.th fbi hostag rescu team scrambl pick holm upon realis ryan lead away holm miller 's companion tri persuad miller turn around enrag derang miller kill terrorist companion continu pursuit ryan ryan miller fight hand hand miller kill ryan impal backward boat anchor bodi obliter subsequ explos craft.credit roll carolin ryan learn gender child go tell jack salli\"]\n"
     ]
    },
    {
     "data": {
      "text/plain": [
       "<1x413 sparse matrix of type '<class 'numpy.float64'>'\n",
       "\twith 413 stored elements in Compressed Sparse Row format>"
      ]
     },
     "execution_count": 23,
     "metadata": {},
     "output_type": "execute_result"
    }
   ],
   "source": [
    "vectorizer = df_movie_details['vectorizer'][0]\n",
    "print(vectorizer)\n",
    "print([df_movie_details['text_tokenized'][0]])\n",
    "vectorizer.transform([df_movie_details['text_tokenized'][0]])"
   ]
  },
  {
   "cell_type": "code",
   "execution_count": 8,
   "id": "e2a2b51b",
   "metadata": {},
   "outputs": [],
   "source": [
    "# Creating new dataframe for Similarity measure\n",
    "similarity_data = {'movie_id' : [], 'review_label' : [], 'review_tokenized' : [], 'vectorizer' : [], 'synopsis_tokenized' : [], 'synopsis_tfidf' : [], 'review_tfidf' : [], 'similarity_score':[]}\n",
    "for idx in df_reviews.index:\n",
    "    review = df_reviews.loc[idx, :]\n",
    "    movie_id = review['movie_id']\n",
    "    review_tokenized = review['text_tokenized']\n",
    "    synopsis_tokenized = df_movie_details.loc[df_movie_details['movie_id'] == movie_id]['text_tokenized'].tolist()[0] #get tokenized synopsis of reviewed movie\n",
    "    vectorizer = df_movie_details.loc[df_movie_details['movie_id'] == movie_id]['vectorizer'].tolist()[0]\n",
    "    synopsis_tfidf = vectorizer.transform([synopsis_tokenized])\n",
    "    review_tfidf = vectorizer.transform([review_tokenized])\n",
    "    similarity_score = cosine_similarity(synopsis_tfidf, review_tfidf)\n",
    "    review_label = review['is_spoiler']\n",
    "\n",
    "    similarity_data['movie_id'].append(movie_id)\n",
    "    similarity_data['review_tokenized'].append(review_tokenized)\n",
    "    similarity_data['synopsis_tokenized'].append(synopsis_tokenized)\n",
    "    similarity_data[\"review_label\"].append(review_label)\n",
    "    similarity_data['vectorizer'].append(vectorizer)\n",
    "    similarity_data['synopsis_tfidf'].append(synopsis_tfidf)\n",
    "    similarity_data['review_tfidf'].append(review_tfidf)\n",
    "    similarity_data['similarity_score'].append(similarity_score)\n",
    "\n",
    "similarity_df = pd.DataFrame(similarity_data)"
   ]
  },
  {
   "cell_type": "code",
   "execution_count": 35,
   "metadata": {},
   "outputs": [],
   "source": [
    "similarity_df['similarity_score'] = similarity_df['similarity_score'].apply(lambda x: x[0][0])"
   ]
  },
  {
   "cell_type": "code",
   "execution_count": 36,
   "metadata": {},
   "outputs": [
    {
     "data": {
      "text/html": [
       "<div>\n",
       "<style scoped>\n",
       "    .dataframe tbody tr th:only-of-type {\n",
       "        vertical-align: middle;\n",
       "    }\n",
       "\n",
       "    .dataframe tbody tr th {\n",
       "        vertical-align: top;\n",
       "    }\n",
       "\n",
       "    .dataframe thead th {\n",
       "        text-align: right;\n",
       "    }\n",
       "</style>\n",
       "<table border=\"1\" class=\"dataframe\">\n",
       "  <thead>\n",
       "    <tr style=\"text-align: right;\">\n",
       "      <th></th>\n",
       "      <th>movie_id</th>\n",
       "      <th>review_label</th>\n",
       "      <th>review_tokenized</th>\n",
       "      <th>vectorizer</th>\n",
       "      <th>synopsis_tokenized</th>\n",
       "      <th>synopsis_tfidf</th>\n",
       "      <th>review_tfidf</th>\n",
       "      <th>similarity_score</th>\n",
       "    </tr>\n",
       "  </thead>\n",
       "  <tbody>\n",
       "    <tr>\n",
       "      <th>0</th>\n",
       "      <td>tt0111161</td>\n",
       "      <td>True</td>\n",
       "      <td>oscar year shawshank redempt written direct fr...</td>\n",
       "      <td>TfidfVectorizer(stop_words='english')</td>\n",
       "      <td>1947 andi dufresn tim robbin banker main convi...</td>\n",
       "      <td>(0, 639)\\t0.018816915354100735\\n  (0, 638)\\t...</td>\n",
       "      <td>(0, 639)\\t0.04708816093480111\\n  (0, 637)\\t0...</td>\n",
       "      <td>0.473596</td>\n",
       "    </tr>\n",
       "    <tr>\n",
       "      <th>1</th>\n",
       "      <td>tt0111161</td>\n",
       "      <td>True</td>\n",
       "      <td>shawshank redempt without doubt one brilliant ...</td>\n",
       "      <td>TfidfVectorizer(stop_words='english')</td>\n",
       "      <td>1947 andi dufresn tim robbin banker main convi...</td>\n",
       "      <td>(0, 639)\\t0.018816915354100735\\n  (0, 638)\\t...</td>\n",
       "      <td>(0, 637)\\t0.11547005383792514\\n  (0, 621)\\t0...</td>\n",
       "      <td>0.466064</td>\n",
       "    </tr>\n",
       "    <tr>\n",
       "      <th>2</th>\n",
       "      <td>tt0111161</td>\n",
       "      <td>True</td>\n",
       "      <td>believ film best stori ever told film 'm tell ...</td>\n",
       "      <td>TfidfVectorizer(stop_words='english')</td>\n",
       "      <td>1947 andi dufresn tim robbin banker main convi...</td>\n",
       "      <td>(0, 639)\\t0.018816915354100735\\n  (0, 638)\\t...</td>\n",
       "      <td>(0, 631)\\t0.09245003270420485\\n  (0, 621)\\t0...</td>\n",
       "      <td>0.502751</td>\n",
       "    </tr>\n",
       "    <tr>\n",
       "      <th>3</th>\n",
       "      <td>tt0111161</td>\n",
       "      <td>True</td>\n",
       "      <td>ye spoiler film emot impact find hard write co...</td>\n",
       "      <td>TfidfVectorizer(stop_words='english')</td>\n",
       "      <td>1947 andi dufresn tim robbin banker main convi...</td>\n",
       "      <td>(0, 639)\\t0.018816915354100735\\n  (0, 638)\\t...</td>\n",
       "      <td>(0, 634)\\t0.07216878364870323\\n  (0, 631)\\t0...</td>\n",
       "      <td>0.418941</td>\n",
       "    </tr>\n",
       "    <tr>\n",
       "      <th>4</th>\n",
       "      <td>tt0111161</td>\n",
       "      <td>True</td>\n",
       "      <td>heart extraordinari movi brilliant indel perfo...</td>\n",
       "      <td>TfidfVectorizer(stop_words='english')</td>\n",
       "      <td>1947 andi dufresn tim robbin banker main convi...</td>\n",
       "      <td>(0, 639)\\t0.018816915354100735\\n  (0, 638)\\t...</td>\n",
       "      <td>(0, 637)\\t0.13678822577626595\\n  (0, 630)\\t0...</td>\n",
       "      <td>0.531946</td>\n",
       "    </tr>\n",
       "    <tr>\n",
       "      <th>...</th>\n",
       "      <td>...</td>\n",
       "      <td>...</td>\n",
       "      <td>...</td>\n",
       "      <td>...</td>\n",
       "      <td>...</td>\n",
       "      <td>...</td>\n",
       "      <td>...</td>\n",
       "      <td>...</td>\n",
       "    </tr>\n",
       "    <tr>\n",
       "      <th>538823</th>\n",
       "      <td>tt0139239</td>\n",
       "      <td>False</td>\n",
       "      <td>go wise fast pure entertain assembl except cas...</td>\n",
       "      <td>TfidfVectorizer(stop_words='english')</td>\n",
       "      <td>film told chronolog format stori told four dif...</td>\n",
       "      <td>(0, 579)\\t0.17919532172715857\\n  (0, 578)\\t0...</td>\n",
       "      <td>(0, 573)\\t0.35355339059327373\\n  (0, 533)\\t0...</td>\n",
       "      <td>0.068229</td>\n",
       "    </tr>\n",
       "    <tr>\n",
       "      <th>538824</th>\n",
       "      <td>tt0139239</td>\n",
       "      <td>False</td>\n",
       "      <td>well shall say one´ fun rate three plotlin ori...</td>\n",
       "      <td>TfidfVectorizer(stop_words='english')</td>\n",
       "      <td>film told chronolog format stori told four dif...</td>\n",
       "      <td>(0, 579)\\t0.17919532172715857\\n  (0, 578)\\t0...</td>\n",
       "      <td>(0, 578)\\t0.6666666666666666\\n  (0, 558)\\t0....</td>\n",
       "      <td>0.045948</td>\n",
       "    </tr>\n",
       "    <tr>\n",
       "      <th>538825</th>\n",
       "      <td>tt0139239</td>\n",
       "      <td>False</td>\n",
       "      <td>go best movi ever seen 've seen lot movi read ...</td>\n",
       "      <td>TfidfVectorizer(stop_words='english')</td>\n",
       "      <td>film told chronolog format stori told four dif...</td>\n",
       "      <td>(0, 579)\\t0.17919532172715857\\n  (0, 578)\\t0...</td>\n",
       "      <td>(0, 576)\\t0.1690308509457033\\n  (0, 563)\\t0....</td>\n",
       "      <td>0.235326</td>\n",
       "    </tr>\n",
       "    <tr>\n",
       "      <th>538826</th>\n",
       "      <td>tt0139239</td>\n",
       "      <td>False</td>\n",
       "      <td>call 1999 teenag version pulp fiction whatev w...</td>\n",
       "      <td>TfidfVectorizer(stop_words='english')</td>\n",
       "      <td>film told chronolog format stori told four dif...</td>\n",
       "      <td>(0, 579)\\t0.17919532172715857\\n  (0, 578)\\t0...</td>\n",
       "      <td>(0, 556)\\t0.3779644730092272\\n  (0, 488)\\t0....</td>\n",
       "      <td>0.041680</td>\n",
       "    </tr>\n",
       "    <tr>\n",
       "      <th>538827</th>\n",
       "      <td>tt0139239</td>\n",
       "      <td>False</td>\n",
       "      <td>movi made doubt sucker family-rebel mtv faith ...</td>\n",
       "      <td>TfidfVectorizer(stop_words='english')</td>\n",
       "      <td>film told chronolog format stori told four dif...</td>\n",
       "      <td>(0, 579)\\t0.17919532172715857\\n  (0, 578)\\t0...</td>\n",
       "      <td>(0, 556)\\t0.25\\n  (0, 549)\\t0.25\\n  (0, 488)...</td>\n",
       "      <td>0.127504</td>\n",
       "    </tr>\n",
       "  </tbody>\n",
       "</table>\n",
       "<p>538828 rows × 8 columns</p>\n",
       "</div>"
      ],
      "text/plain": [
       "         movie_id  review_label  \\\n",
       "0       tt0111161          True   \n",
       "1       tt0111161          True   \n",
       "2       tt0111161          True   \n",
       "3       tt0111161          True   \n",
       "4       tt0111161          True   \n",
       "...           ...           ...   \n",
       "538823  tt0139239         False   \n",
       "538824  tt0139239         False   \n",
       "538825  tt0139239         False   \n",
       "538826  tt0139239         False   \n",
       "538827  tt0139239         False   \n",
       "\n",
       "                                         review_tokenized  \\\n",
       "0       oscar year shawshank redempt written direct fr...   \n",
       "1       shawshank redempt without doubt one brilliant ...   \n",
       "2       believ film best stori ever told film 'm tell ...   \n",
       "3       ye spoiler film emot impact find hard write co...   \n",
       "4       heart extraordinari movi brilliant indel perfo...   \n",
       "...                                                   ...   \n",
       "538823  go wise fast pure entertain assembl except cas...   \n",
       "538824  well shall say one´ fun rate three plotlin ori...   \n",
       "538825  go best movi ever seen 've seen lot movi read ...   \n",
       "538826  call 1999 teenag version pulp fiction whatev w...   \n",
       "538827  movi made doubt sucker family-rebel mtv faith ...   \n",
       "\n",
       "                                   vectorizer  \\\n",
       "0       TfidfVectorizer(stop_words='english')   \n",
       "1       TfidfVectorizer(stop_words='english')   \n",
       "2       TfidfVectorizer(stop_words='english')   \n",
       "3       TfidfVectorizer(stop_words='english')   \n",
       "4       TfidfVectorizer(stop_words='english')   \n",
       "...                                       ...   \n",
       "538823  TfidfVectorizer(stop_words='english')   \n",
       "538824  TfidfVectorizer(stop_words='english')   \n",
       "538825  TfidfVectorizer(stop_words='english')   \n",
       "538826  TfidfVectorizer(stop_words='english')   \n",
       "538827  TfidfVectorizer(stop_words='english')   \n",
       "\n",
       "                                       synopsis_tokenized  \\\n",
       "0       1947 andi dufresn tim robbin banker main convi...   \n",
       "1       1947 andi dufresn tim robbin banker main convi...   \n",
       "2       1947 andi dufresn tim robbin banker main convi...   \n",
       "3       1947 andi dufresn tim robbin banker main convi...   \n",
       "4       1947 andi dufresn tim robbin banker main convi...   \n",
       "...                                                   ...   \n",
       "538823  film told chronolog format stori told four dif...   \n",
       "538824  film told chronolog format stori told four dif...   \n",
       "538825  film told chronolog format stori told four dif...   \n",
       "538826  film told chronolog format stori told four dif...   \n",
       "538827  film told chronolog format stori told four dif...   \n",
       "\n",
       "                                           synopsis_tfidf  \\\n",
       "0         (0, 639)\\t0.018816915354100735\\n  (0, 638)\\t...   \n",
       "1         (0, 639)\\t0.018816915354100735\\n  (0, 638)\\t...   \n",
       "2         (0, 639)\\t0.018816915354100735\\n  (0, 638)\\t...   \n",
       "3         (0, 639)\\t0.018816915354100735\\n  (0, 638)\\t...   \n",
       "4         (0, 639)\\t0.018816915354100735\\n  (0, 638)\\t...   \n",
       "...                                                   ...   \n",
       "538823    (0, 579)\\t0.17919532172715857\\n  (0, 578)\\t0...   \n",
       "538824    (0, 579)\\t0.17919532172715857\\n  (0, 578)\\t0...   \n",
       "538825    (0, 579)\\t0.17919532172715857\\n  (0, 578)\\t0...   \n",
       "538826    (0, 579)\\t0.17919532172715857\\n  (0, 578)\\t0...   \n",
       "538827    (0, 579)\\t0.17919532172715857\\n  (0, 578)\\t0...   \n",
       "\n",
       "                                             review_tfidf  similarity_score  \n",
       "0         (0, 639)\\t0.04708816093480111\\n  (0, 637)\\t0...          0.473596  \n",
       "1         (0, 637)\\t0.11547005383792514\\n  (0, 621)\\t0...          0.466064  \n",
       "2         (0, 631)\\t0.09245003270420485\\n  (0, 621)\\t0...          0.502751  \n",
       "3         (0, 634)\\t0.07216878364870323\\n  (0, 631)\\t0...          0.418941  \n",
       "4         (0, 637)\\t0.13678822577626595\\n  (0, 630)\\t0...          0.531946  \n",
       "...                                                   ...               ...  \n",
       "538823    (0, 573)\\t0.35355339059327373\\n  (0, 533)\\t0...          0.068229  \n",
       "538824    (0, 578)\\t0.6666666666666666\\n  (0, 558)\\t0....          0.045948  \n",
       "538825    (0, 576)\\t0.1690308509457033\\n  (0, 563)\\t0....          0.235326  \n",
       "538826    (0, 556)\\t0.3779644730092272\\n  (0, 488)\\t0....          0.041680  \n",
       "538827    (0, 556)\\t0.25\\n  (0, 549)\\t0.25\\n  (0, 488)...          0.127504  \n",
       "\n",
       "[538828 rows x 8 columns]"
      ]
     },
     "execution_count": 36,
     "metadata": {},
     "output_type": "execute_result"
    }
   ],
   "source": [
    "similarity_df"
   ]
  },
  {
   "cell_type": "code",
   "execution_count": 34,
   "id": "bdf5c311",
   "metadata": {},
   "outputs": [],
   "source": [
    "similarity_df.to_pickle(\"../data/similarity.pkl.gz\", compression = \"gzip\")"
   ]
  },
  {
   "cell_type": "code",
   "execution_count": 8,
   "id": "1feb27fc",
   "metadata": {},
   "outputs": [],
   "source": [
    "similarity_df = pd.read_pickle(\"../data/similarity.pkl.gz\", compression = \"gzip\")"
   ]
  },
  {
   "cell_type": "code",
   "execution_count": 12,
   "id": "9869605b",
   "metadata": {},
   "outputs": [
    {
     "data": {
      "text/plain": [
       "TfidfVectorizer()"
      ]
     },
     "execution_count": 12,
     "metadata": {},
     "output_type": "execute_result"
    }
   ],
   "source": [
    "tfidfvectorizer = TfidfVectorizer()\n",
    "tfidfvectorizer.fit(similarity_df[\"review_tokenized\"] + similarity_df[\"synopsis_tokenized\"])"
   ]
  },
  {
   "cell_type": "code",
   "execution_count": 31,
   "id": "5e8a5b12",
   "metadata": {},
   "outputs": [
    {
     "data": {
      "text/plain": [
       "0           (0, 639)\\t0.018816915354100735\\n  (0, 638)\\t...\n",
       "1           (0, 639)\\t0.018816915354100735\\n  (0, 638)\\t...\n",
       "2           (0, 639)\\t0.018816915354100735\\n  (0, 638)\\t...\n",
       "3           (0, 639)\\t0.018816915354100735\\n  (0, 638)\\t...\n",
       "4           (0, 639)\\t0.018816915354100735\\n  (0, 638)\\t...\n",
       "                                ...                        \n",
       "538823      (0, 579)\\t0.17919532172715857\\n  (0, 578)\\t0...\n",
       "538824      (0, 579)\\t0.17919532172715857\\n  (0, 578)\\t0...\n",
       "538825      (0, 579)\\t0.17919532172715857\\n  (0, 578)\\t0...\n",
       "538826      (0, 579)\\t0.17919532172715857\\n  (0, 578)\\t0...\n",
       "538827      (0, 579)\\t0.17919532172715857\\n  (0, 578)\\t0...\n",
       "Name: synopsis_tfidf, Length: 538828, dtype: object"
      ]
     },
     "execution_count": 31,
     "metadata": {},
     "output_type": "execute_result"
    }
   ],
   "source": [
    "similarity_df['synopsis_tfidf']"
   ]
  },
  {
   "cell_type": "code",
   "execution_count": 14,
   "id": "67db996a",
   "metadata": {},
   "outputs": [
    {
     "data": {
      "text/plain": [
       "<573906x519982 sparse matrix of type '<class 'numpy.float64'>'\n",
       "\twith 269581411 stored elements in Compressed Sparse Row format>"
      ]
     },
     "execution_count": 14,
     "metadata": {},
     "output_type": "execute_result"
    }
   ],
   "source": [
    "synopsis_tfidf"
   ]
  },
  {
   "cell_type": "code",
   "execution_count": 15,
   "id": "fd0e772d",
   "metadata": {},
   "outputs": [],
   "source": [
    "review_tfidf = tfidfvectorizer.transform(similarity_df[\"review_tokenized\"])"
   ]
  },
  {
   "cell_type": "code",
   "execution_count": 16,
   "id": "c9626866",
   "metadata": {},
   "outputs": [
    {
     "data": {
      "text/plain": [
       "<573906x519982 sparse matrix of type '<class 'numpy.float64'>'\n",
       "\twith 62630753 stored elements in Compressed Sparse Row format>"
      ]
     },
     "execution_count": 16,
     "metadata": {},
     "output_type": "execute_result"
    }
   ],
   "source": [
    "review_tfidf"
   ]
  },
  {
   "cell_type": "code",
   "execution_count": 21,
   "id": "56d7e779",
   "metadata": {},
   "outputs": [],
   "source": [
    "for idx in similarity_df.index:\n",
    "    similarity_df.loc[idx, 'similarity_score'] = cosine_similarity(review_tfidf[idx], synopsis_tfidf[idx]).tolist()[0]"
   ]
  },
  {
   "cell_type": "code",
   "execution_count": 35,
   "id": "6251acf0",
   "metadata": {
    "scrolled": true
   },
   "outputs": [
    {
     "name": "stdout",
     "output_type": "stream",
     "text": [
      "<class 'pandas.core.frame.DataFrame'>\n",
      "RangeIndex: 573906 entries, 0 to 573905\n",
      "Data columns (total 5 columns):\n",
      " #   Column              Non-Null Count   Dtype  \n",
      "---  ------              --------------   -----  \n",
      " 0   movie_id            573906 non-null  object \n",
      " 1   review_label        573906 non-null  bool   \n",
      " 2   review_tokenized    573906 non-null  object \n",
      " 3   synopsis_tokenized  573906 non-null  object \n",
      " 4   similarity_score    573906 non-null  float64\n",
      "dtypes: bool(1), float64(1), object(3)\n",
      "memory usage: 18.1+ MB\n"
     ]
    }
   ],
   "source": [
    "similarity_df.info()"
   ]
  },
  {
   "cell_type": "code",
   "execution_count": 37,
   "id": "270f5a35",
   "metadata": {},
   "outputs": [],
   "source": [
    "spoiler = similarity_df.loc[similarity_df[\"review_label\"] == True]\n",
    "non_spoiler = similarity_df.loc[similarity_df[\"review_label\"] == False].sample(n = spoiler[\"review_label\"].count())\n",
    "similarity_df_new = pd.concat([spoiler, non_spoiler])"
   ]
  },
  {
   "cell_type": "code",
   "execution_count": 38,
   "id": "d965e11c",
   "metadata": {},
   "outputs": [
    {
     "data": {
      "text/plain": [
       "[<matplotlib.lines.Line2D at 0x29c7103a410>]"
      ]
     },
     "execution_count": 38,
     "metadata": {},
     "output_type": "execute_result"
    },
    {
     "data": {
      "image/png": "[encoded data removed]",
      "text/plain": [
       "<Figure size 640x480 with 1 Axes>"
      ]
     },
     "metadata": {},
     "output_type": "display_data"
    }
   ],
   "source": [
    "accuracy = []\n",
    "max_acc = float('-inf')\n",
    "for threshold in np.arange(-0.5, 0.5, 0.0001):\n",
    "    pred = similarity_df_new[\"similarity_score\"] > threshold\n",
    "    acc = (pred == similarity_df_new[\"review_label\"]).sum()/pred.count()\n",
    "    accuracy.append(acc)\n",
    "    max_acc = max(acc, max_acc)\n",
    "plt.plot(accuracy)"
   ]
  },
  {
   "cell_type": "code",
   "execution_count": 39,
   "id": "b779965c",
   "metadata": {},
   "outputs": [
    {
     "data": {
      "text/plain": [
       "0.6014785932401177"
      ]
     },
     "execution_count": 39,
     "metadata": {},
     "output_type": "execute_result"
    }
   ],
   "source": [
    "max_acc"
   ]
  },
  {
   "cell_type": "code",
   "execution_count": 44,
   "id": "412e749b",
   "metadata": {},
   "outputs": [
    {
     "data": {
      "text/html": [
       "<div>\n",
       "<style scoped>\n",
       "    .dataframe tbody tr th:only-of-type {\n",
       "        vertical-align: middle;\n",
       "    }\n",
       "\n",
       "    .dataframe tbody tr th {\n",
       "        vertical-align: top;\n",
       "    }\n",
       "\n",
       "    .dataframe thead th {\n",
       "        text-align: right;\n",
       "    }\n",
       "</style>\n",
       "<table border=\"1\" class=\"dataframe\">\n",
       "  <thead>\n",
       "    <tr style=\"text-align: right;\">\n",
       "      <th></th>\n",
       "      <th>movie_id</th>\n",
       "      <th>review_tokenized</th>\n",
       "      <th>synopsis_tokenized</th>\n",
       "      <th>similarity_score</th>\n",
       "    </tr>\n",
       "    <tr>\n",
       "      <th>review_label</th>\n",
       "      <th></th>\n",
       "      <th></th>\n",
       "      <th></th>\n",
       "      <th></th>\n",
       "    </tr>\n",
       "  </thead>\n",
       "  <tbody>\n",
       "    <tr>\n",
       "      <th>False</th>\n",
       "      <td>422982</td>\n",
       "      <td>422982</td>\n",
       "      <td>422982</td>\n",
       "      <td>422982</td>\n",
       "    </tr>\n",
       "    <tr>\n",
       "      <th>True</th>\n",
       "      <td>150924</td>\n",
       "      <td>150924</td>\n",
       "      <td>150924</td>\n",
       "      <td>150924</td>\n",
       "    </tr>\n",
       "  </tbody>\n",
       "</table>\n",
       "</div>"
      ],
      "text/plain": [
       "              movie_id  review_tokenized  synopsis_tokenized  similarity_score\n",
       "review_label                                                                  \n",
       "False           422982            422982              422982            422982\n",
       "True            150924            150924              150924            150924"
      ]
     },
     "execution_count": 44,
     "metadata": {},
     "output_type": "execute_result"
    }
   ],
   "source": [
    "similarity_df.groupby(\"review_label\").count()"
   ]
  },
  {
   "cell_type": "code",
   "execution_count": null,
   "metadata": {},
   "outputs": [],
   "source": [
    "X_train, X_test, y_train, y_test = train_test_split(similarity_df_new['similarity_score'], similarity_df_new['is_spoiler'], test_size = 0.3, random_state = 23)"
   ]
  },
  {
   "cell_type": "code",
   "execution_count": null,
   "id": "dab22e3c",
   "metadata": {},
   "outputs": [],
   "source": [
    "logistic_model = LogisticRegression()\n",
    "logistic_model.fit(X_train, y_train)"
   ]
  },
  {
   "cell_type": "code",
   "execution_count": null,
   "metadata": {},
   "outputs": [],
   "source": [
    "logistic_model.score(X_test, y_test)"
   ]
  },
  {
   "cell_type": "code",
   "execution_count": null,
   "metadata": {},
   "outputs": [],
   "source": [
    "print(confusion_matrix(y_test, logistic_model.predict(X_test)))"
   ]
  },
  {
   "cell_type": "code",
   "execution_count": null,
   "metadata": {},
   "outputs": [],
   "source": [
    "ConfusionMatrixDisplay(confusion_matrix(y_test, logistic_model.predict(X_test))).plot()"
   ]
  },
  {
   "cell_type": "code",
   "execution_count": null,
   "metadata": {},
   "outputs": [],
   "source": [
    "recall_score(y_test, logistic_model.predict(X_test))\n",
    "print(classification_report(y_test, logistic_model.predict(X_test)))"
   ]
  }
 ],
 "metadata": {
  "kernelspec": {
   "display_name": "Python 3",
   "language": "python",
   "name": "python3"
  },
  "language_info": {
   "codemirror_mode": {
    "name": "ipython",
    "version": 3
   },
   "file_extension": ".py",
   "mimetype": "text/x-python",
   "name": "python",
   "nbconvert_exporter": "python",
   "pygments_lexer": "ipython3",
   "version": "3.9.13"
  }
 },
 "nbformat": 4,
 "nbformat_minor": 5
}
