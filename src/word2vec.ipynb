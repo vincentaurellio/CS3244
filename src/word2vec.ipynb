{
 "cells": [
  {
   "cell_type": "code",
   "execution_count": 1,
   "id": "e76163c4",
   "metadata": {},
   "outputs": [],
   "source": [
    "import numpy as np\n",
    "import pandas as pd\n",
    "from nltk.tokenize import word_tokenize\n",
    "from nltk.corpus import stopwords\n",
    "from nltk.stem import PorterStemmer\n",
    "from sklearn.metrics.pairwise import cosine_similarity\n",
    "from sklearn.feature_extraction.text import TfidfVectorizer\n",
    "import string\n",
    "import matplotlib.pyplot as plt"
   ]
  },
  {
   "cell_type": "code",
   "execution_count": 2,
   "id": "f70c56b3",
   "metadata": {},
   "outputs": [],
   "source": [
    "df_movie_details = pd.read_json('../data/IMDB_movie_details.json', lines = True)\n",
    "df_reviews = pd.read_pickle('../data/cleaned_reviews.pkl.gz', compression = 'gzip')"
   ]
  },
  {
   "cell_type": "code",
   "execution_count": 4,
   "id": "3343d50b",
   "metadata": {},
   "outputs": [],
   "source": [
    "#Tokenize\n",
    "df_movie_details['tokenized_synopsis'] = list(map(word_tokenize, df_movie_details['plot_synopsis']))"
   ]
  },
  {
   "cell_type": "code",
   "execution_count": 10,
   "id": "3f8c3f31",
   "metadata": {},
   "outputs": [],
   "source": [
    "# Remove stop words\n",
    "stop_words_and_punctuations = set(stopwords.words('english') + list(string.punctuation))\n",
    "df_movie_details['tokenized_synopsis'] = list(map(lambda x: [word.lower() for word in x if word.lower() not in stop_words_and_punctuations], df_movie_details['tokenized_synopsis']))"
   ]
  },
  {
   "cell_type": "code",
   "execution_count": 11,
   "id": "71eda1ab",
   "metadata": {},
   "outputs": [],
   "source": [
    "# Stemming\n",
    "stemmer = PorterStemmer()\n",
    "df_movie_details['tokenized_synopsis'] = list(map(lambda x: [stemmer.stem(word) for word in x], df_movie_details['tokenized_synopsis']))"
   ]
  },
  {
   "cell_type": "code",
   "execution_count": 23,
   "id": "2dccd5e6",
   "metadata": {},
   "outputs": [
    {
     "name": "stderr",
     "output_type": "stream",
     "text": [
      "<ipython-input-23-6f1327d37a39>:1: SettingWithCopyWarning: \n",
      "A value is trying to be set on a copy of a slice from a DataFrame.\n",
      "Try using .loc[row_indexer,col_indexer] = value instead\n",
      "\n",
      "See the caveats in the documentation: https://pandas.pydata.org/pandas-docs/stable/user_guide/indexing.html#returning-a-view-versus-a-copy\n",
      "  df_movie_details['text_tokenized'] = list(map(lambda x: ' '.join(x), df_movie_details['tokenized_synopsis']))\n"
     ]
    }
   ],
   "source": [
    "df_movie_details['text_tokenized'] = list(map(lambda x: ' '.join(x), df_movie_details['tokenized_synopsis']))\n",
    "df_movie_details = df_movie_details[df_movie_details['text_tokenized'] != '']\n",
    "df_reviews = df_reviews[df_reviews['movie_id'].isin(df_movie_details['movie_id'])]\n",
    "df_movie_details.to_pickle(\"../data/cleaned_synopsis.pkl.gz\", compression = 'gzip')"
   ]
  },
  {
   "cell_type": "code",
   "execution_count": 3,
   "id": "5b795d15",
   "metadata": {},
   "outputs": [],
   "source": [
    "df_movie_details = pd.read_pickle(\"../data/cleaned_synopsis.pkl.gz\", compression = \"gzip\")"
   ]
  },
  {
   "cell_type": "code",
   "execution_count": 4,
   "id": "bcc3b75e",
   "metadata": {},
   "outputs": [],
   "source": [
    "df_reviews = df_reviews.drop(df_reviews[df_reviews.movie_id == \"tt0104014\"].index)\n",
    "df_reviews = df_reviews.drop(df_reviews[df_reviews.movie_id == \"tt0114142\"].index)"
   ]
  },
  {
   "cell_type": "code",
   "execution_count": 78,
   "id": "31b19cd3",
   "metadata": {},
   "outputs": [
    {
     "name": "stdout",
     "output_type": "stream",
     "text": [
      "tt0104014\n",
      "tt0114142\n"
     ]
    }
   ],
   "source": [
    "movie_list = set(df_movie_details[\"movie_id\"])\n",
    "for movie_id in list(df_reviews[\"movie_id\"].unique()):\n",
    "    if movie_id not in movie_list:\n",
    "        print(movie_id)"
   ]
  },
  {
   "cell_type": "code",
   "execution_count": 25,
   "id": "476d182f",
   "metadata": {},
   "outputs": [],
   "source": [
    "def fit_vectorizer(synopsis):\n",
    "    vectorizer = TfidfVectorizer(stop_words='english')\n",
    "    vectorizer.fit([synopsis])\n",
    "    return vectorizer\n",
    "\n",
    "# Apply the function to create a new column 'vectorizer'\n",
    "df_movie_details['vectorizer'] = df_movie_details['text_tokenized'].apply(fit_vectorizer)"
   ]
  },
  {
   "cell_type": "code",
   "execution_count": 34,
   "id": "e2a2b51b",
   "metadata": {},
   "outputs": [
    {
     "name": "stdout",
     "output_type": "stream",
     "text": [
      "1263    TfidfVectorizer(stop_words='english')\n",
      "Name: vectorizer, dtype: object\n"
     ]
    },
    {
     "ename": "ValueError",
     "evalue": "Transform function failed",
     "output_type": "error",
     "traceback": [
      "\u001b[1;31m---------------------------------------------------------------------------\u001b[0m",
      "\u001b[1;31mValueError\u001b[0m                                Traceback (most recent call last)",
      "\u001b[1;32m<ipython-input-34-2902780768e6>\u001b[0m in \u001b[0;36m<module>\u001b[1;34m\u001b[0m\n\u001b[0;32m      8\u001b[0m     \u001b[0mvectorizer\u001b[0m \u001b[1;33m=\u001b[0m \u001b[0mdf_movie_details\u001b[0m\u001b[1;33m.\u001b[0m\u001b[0mloc\u001b[0m\u001b[1;33m[\u001b[0m\u001b[0mdf_movie_details\u001b[0m\u001b[1;33m[\u001b[0m\u001b[1;34m'movie_id'\u001b[0m\u001b[1;33m]\u001b[0m \u001b[1;33m==\u001b[0m \u001b[0mmovie_id\u001b[0m\u001b[1;33m]\u001b[0m\u001b[1;33m[\u001b[0m\u001b[1;34m'vectorizer'\u001b[0m\u001b[1;33m]\u001b[0m\u001b[1;33m\u001b[0m\u001b[1;33m\u001b[0m\u001b[0m\n\u001b[0;32m      9\u001b[0m     \u001b[0mprint\u001b[0m\u001b[1;33m(\u001b[0m\u001b[0mvectorizer\u001b[0m\u001b[1;33m)\u001b[0m\u001b[1;33m\u001b[0m\u001b[1;33m\u001b[0m\u001b[0m\n\u001b[1;32m---> 10\u001b[1;33m     \u001b[0msynopsis_tfidf\u001b[0m \u001b[1;33m=\u001b[0m \u001b[0mvectorizer\u001b[0m\u001b[1;33m.\u001b[0m\u001b[0mtransform\u001b[0m\u001b[1;33m(\u001b[0m\u001b[0msynopsis_tokenized\u001b[0m\u001b[1;33m)\u001b[0m\u001b[1;33m\u001b[0m\u001b[1;33m\u001b[0m\u001b[0m\n\u001b[0m\u001b[0;32m     11\u001b[0m     \u001b[0mreview_tfidf\u001b[0m \u001b[1;33m=\u001b[0m \u001b[0mvectorizer\u001b[0m\u001b[1;33m.\u001b[0m\u001b[0mtransform\u001b[0m\u001b[1;33m(\u001b[0m\u001b[0mreview_tokenized\u001b[0m\u001b[1;33m)\u001b[0m\u001b[1;33m\u001b[0m\u001b[1;33m\u001b[0m\u001b[0m\n\u001b[0;32m     12\u001b[0m     \u001b[0mreview_label\u001b[0m \u001b[1;33m=\u001b[0m \u001b[0mreview\u001b[0m\u001b[1;33m[\u001b[0m\u001b[1;34m'is_spoiler'\u001b[0m\u001b[1;33m]\u001b[0m\u001b[1;33m\u001b[0m\u001b[1;33m\u001b[0m\u001b[0m\n",
      "\u001b[1;32m~\\AppData\\Local\\Programs\\Python\\Python39\\lib\\site-packages\\pandas\\core\\series.py\u001b[0m in \u001b[0;36mtransform\u001b[1;34m(self, func, axis, *args, **kwargs)\u001b[0m\n\u001b[0;32m   4654\u001b[0m         \u001b[1;31m# Validate axis argument\u001b[0m\u001b[1;33m\u001b[0m\u001b[1;33m\u001b[0m\u001b[1;33m\u001b[0m\u001b[0m\n\u001b[0;32m   4655\u001b[0m         \u001b[0mself\u001b[0m\u001b[1;33m.\u001b[0m\u001b[0m_get_axis_number\u001b[0m\u001b[1;33m(\u001b[0m\u001b[0maxis\u001b[0m\u001b[1;33m)\u001b[0m\u001b[1;33m\u001b[0m\u001b[1;33m\u001b[0m\u001b[0m\n\u001b[1;32m-> 4656\u001b[1;33m         result = SeriesApply(\n\u001b[0m\u001b[0;32m   4657\u001b[0m             \u001b[0mself\u001b[0m\u001b[1;33m,\u001b[0m \u001b[0mfunc\u001b[0m\u001b[1;33m=\u001b[0m\u001b[0mfunc\u001b[0m\u001b[1;33m,\u001b[0m \u001b[0mconvert_dtype\u001b[0m\u001b[1;33m=\u001b[0m\u001b[1;32mTrue\u001b[0m\u001b[1;33m,\u001b[0m \u001b[0margs\u001b[0m\u001b[1;33m=\u001b[0m\u001b[0margs\u001b[0m\u001b[1;33m,\u001b[0m \u001b[0mkwargs\u001b[0m\u001b[1;33m=\u001b[0m\u001b[0mkwargs\u001b[0m\u001b[1;33m\u001b[0m\u001b[1;33m\u001b[0m\u001b[0m\n\u001b[0;32m   4658\u001b[0m         ).transform()\n",
      "\u001b[1;32m~\\AppData\\Local\\Programs\\Python\\Python39\\lib\\site-packages\\pandas\\core\\apply.py\u001b[0m in \u001b[0;36mtransform\u001b[1;34m(self)\u001b[0m\n\u001b[0;32m    228\u001b[0m         \u001b[1;32mif\u001b[0m \u001b[0mis_dict_like\u001b[0m\u001b[1;33m(\u001b[0m\u001b[0mfunc\u001b[0m\u001b[1;33m)\u001b[0m\u001b[1;33m:\u001b[0m\u001b[1;33m\u001b[0m\u001b[1;33m\u001b[0m\u001b[0m\n\u001b[0;32m    229\u001b[0m             \u001b[0mfunc\u001b[0m \u001b[1;33m=\u001b[0m \u001b[0mcast\u001b[0m\u001b[1;33m(\u001b[0m\u001b[0mAggFuncTypeDict\u001b[0m\u001b[1;33m,\u001b[0m \u001b[0mfunc\u001b[0m\u001b[1;33m)\u001b[0m\u001b[1;33m\u001b[0m\u001b[1;33m\u001b[0m\u001b[0m\n\u001b[1;32m--> 230\u001b[1;33m             \u001b[1;32mreturn\u001b[0m \u001b[0mself\u001b[0m\u001b[1;33m.\u001b[0m\u001b[0mtransform_dict_like\u001b[0m\u001b[1;33m(\u001b[0m\u001b[0mfunc\u001b[0m\u001b[1;33m)\u001b[0m\u001b[1;33m\u001b[0m\u001b[1;33m\u001b[0m\u001b[0m\n\u001b[0m\u001b[0;32m    231\u001b[0m \u001b[1;33m\u001b[0m\u001b[0m\n\u001b[0;32m    232\u001b[0m         \u001b[1;31m# func is either str or callable\u001b[0m\u001b[1;33m\u001b[0m\u001b[1;33m\u001b[0m\u001b[1;33m\u001b[0m\u001b[0m\n",
      "\u001b[1;32m~\\AppData\\Local\\Programs\\Python\\Python39\\lib\\site-packages\\pandas\\core\\apply.py\u001b[0m in \u001b[0;36mtransform_dict_like\u001b[1;34m(self, func)\u001b[0m\n\u001b[0;32m    296\u001b[0m         \u001b[1;32mif\u001b[0m \u001b[1;32mnot\u001b[0m \u001b[0mresults\u001b[0m\u001b[1;33m:\u001b[0m\u001b[1;33m\u001b[0m\u001b[1;33m\u001b[0m\u001b[0m\n\u001b[0;32m    297\u001b[0m             \u001b[0mklass\u001b[0m \u001b[1;33m=\u001b[0m \u001b[0mTypeError\u001b[0m \u001b[1;32mif\u001b[0m \u001b[0mall_type_errors\u001b[0m \u001b[1;32melse\u001b[0m \u001b[0mValueError\u001b[0m\u001b[1;33m\u001b[0m\u001b[1;33m\u001b[0m\u001b[0m\n\u001b[1;32m--> 298\u001b[1;33m             \u001b[1;32mraise\u001b[0m \u001b[0mklass\u001b[0m\u001b[1;33m(\u001b[0m\u001b[1;34m\"Transform function failed\"\u001b[0m\u001b[1;33m)\u001b[0m\u001b[1;33m\u001b[0m\u001b[1;33m\u001b[0m\u001b[0m\n\u001b[0m\u001b[0;32m    299\u001b[0m         \u001b[1;32mif\u001b[0m \u001b[0mlen\u001b[0m\u001b[1;33m(\u001b[0m\u001b[0mfailed_names\u001b[0m\u001b[1;33m)\u001b[0m \u001b[1;33m>\u001b[0m \u001b[1;36m0\u001b[0m\u001b[1;33m:\u001b[0m\u001b[1;33m\u001b[0m\u001b[1;33m\u001b[0m\u001b[0m\n\u001b[0;32m    300\u001b[0m             warnings.warn(\n",
      "\u001b[1;31mValueError\u001b[0m: Transform function failed"
     ]
    }
   ],
   "source": [
    "# Creating new dataframe for Similarity measure\n",
    "similarity_data = {'movie_id' : [], 'review_label' : [], 'review_tokenized' : [], 'vectorizer' : [], 'synopsis_tokenized' : [], 'synopsis_tfidf' : [], 'review_tfidf' : []}\n",
    "for idx in df_reviews.index:\n",
    "    review = df_reviews.loc[idx, :]\n",
    "    movie_id = review['movie_id']\n",
    "    review_tokenized = review['text_tokenized']\n",
    "    synopsis_tokenized = df_movie_details.loc[df_movie_details['movie_id'] == movie_id]['text_tokenized'].tolist() #get tokenized synopsis of reviewed movie\n",
    "    vectorizer = df_movie_details.loc[df_movie_details['movie_id'] == movie_id]['vectorizer']\n",
    "    print(vectorizer)\n",
    "    synopsis_tfidf = vectorizer.transform(synopsis_tokenized)\n",
    "    review_tfidf = vectorizer.transform(review_tokenized)\n",
    "    review_label = review['is_spoiler']\n",
    "\n",
    "    similarity_data['movie_id'].append(movie_id)\n",
    "    similarity_data['review_tokenized'].append(review_tokenized)\n",
    "    similarity_data['synopsis_tokenized'].append(synopsis_tokenized)\n",
    "    similarity_data[\"review_label\"].append(review_label)\n",
    "    similarity_data['vectorizer'].append(vectorizer)\n",
    "    similarit_data['synopsis_tfidf'].append(synopsis_tfidf)\n",
    "    similarity_data['review_tfidf'].append(review_tfidf)\n",
    "\n",
    "similarity_df = pd.DataFrame(similarity_data)"
   ]
  },
  {
   "cell_type": "code",
   "execution_count": 11,
   "id": "bdf5c311",
   "metadata": {},
   "outputs": [],
   "source": [
    "similarity_df.to_pickle(\"../data/similarity.pkl.gz\", compression = \"gzip\")"
   ]
  },
  {
   "cell_type": "code",
   "execution_count": 8,
   "id": "1feb27fc",
   "metadata": {},
   "outputs": [],
   "source": [
    "similarity_df = pd.read_pickle(\"../data/similarity.pkl.gz\", compression = \"gzip\")"
   ]
  },
  {
   "cell_type": "code",
   "execution_count": 12,
   "id": "9869605b",
   "metadata": {},
   "outputs": [
    {
     "data": {
      "text/plain": [
       "TfidfVectorizer()"
      ]
     },
     "execution_count": 12,
     "metadata": {},
     "output_type": "execute_result"
    }
   ],
   "source": [
    "tfidfvectorizer = TfidfVectorizer()\n",
    "tfidfvectorizer.fit(similarity_df[\"review_tokenized\"] + similarity_df[\"synopsis_tokenized\"])"
   ]
  },
  {
   "cell_type": "code",
   "execution_count": 13,
   "id": "5e8a5b12",
   "metadata": {},
   "outputs": [],
   "source": [
    "synopsis_tfidf = tfidfvectorizer.transform(similarity_df[\"synopsis_tokenized\"])"
   ]
  },
  {
   "cell_type": "code",
   "execution_count": 14,
   "id": "67db996a",
   "metadata": {},
   "outputs": [
    {
     "data": {
      "text/plain": [
       "<573906x519982 sparse matrix of type '<class 'numpy.float64'>'\n",
       "\twith 269581411 stored elements in Compressed Sparse Row format>"
      ]
     },
     "execution_count": 14,
     "metadata": {},
     "output_type": "execute_result"
    }
   ],
   "source": [
    "synopsis_tfidf"
   ]
  },
  {
   "cell_type": "code",
   "execution_count": 15,
   "id": "fd0e772d",
   "metadata": {},
   "outputs": [],
   "source": [
    "review_tfidf = tfidfvectorizer.transform(similarity_df[\"review_tokenized\"])"
   ]
  },
  {
   "cell_type": "code",
   "execution_count": 16,
   "id": "c9626866",
   "metadata": {},
   "outputs": [
    {
     "data": {
      "text/plain": [
       "<573906x519982 sparse matrix of type '<class 'numpy.float64'>'\n",
       "\twith 62630753 stored elements in Compressed Sparse Row format>"
      ]
     },
     "execution_count": 16,
     "metadata": {},
     "output_type": "execute_result"
    }
   ],
   "source": [
    "review_tfidf"
   ]
  },
  {
   "cell_type": "code",
   "execution_count": 21,
   "id": "56d7e779",
   "metadata": {},
   "outputs": [],
   "source": [
    "for idx in similarity_df.index:\n",
    "    similarity_df.loc[idx, 'similarity_score'] = cosine_similarity(review_tfidf[idx], synopsis_tfidf[idx]).tolist()[0]"
   ]
  },
  {
   "cell_type": "code",
   "execution_count": 35,
   "id": "6251acf0",
   "metadata": {
    "scrolled": true
   },
   "outputs": [
    {
     "name": "stdout",
     "output_type": "stream",
     "text": [
      "<class 'pandas.core.frame.DataFrame'>\n",
      "RangeIndex: 573906 entries, 0 to 573905\n",
      "Data columns (total 5 columns):\n",
      " #   Column              Non-Null Count   Dtype  \n",
      "---  ------              --------------   -----  \n",
      " 0   movie_id            573906 non-null  object \n",
      " 1   review_label        573906 non-null  bool   \n",
      " 2   review_tokenized    573906 non-null  object \n",
      " 3   synopsis_tokenized  573906 non-null  object \n",
      " 4   similarity_score    573906 non-null  float64\n",
      "dtypes: bool(1), float64(1), object(3)\n",
      "memory usage: 18.1+ MB\n"
     ]
    }
   ],
   "source": [
    "similarity_df.info()"
   ]
  },
  {
   "cell_type": "code",
   "execution_count": 37,
   "id": "270f5a35",
   "metadata": {},
   "outputs": [],
   "source": [
    "spoiler = similarity_df.loc[similarity_df[\"review_label\"] == True]\n",
    "non_spoiler = similarity_df.loc[similarity_df[\"review_label\"] == False].sample(n = spoiler[\"review_label\"].count())\n",
    "similarity_df_new = pd.concat([spoiler, non_spoiler])"
   ]
  },
  {
   "cell_type": "code",
   "execution_count": 41,
   "id": "d965e11c",
   "metadata": {},
   "outputs": [
    {
     "data": {
      "text/plain": [
       "[<matplotlib.lines.Line2D at 0x2499e53b1f0>]"
      ]
     },
     "execution_count": 41,
     "metadata": {},
     "output_type": "execute_result"
    },
    {
     "data": {
      "image/png": "[encoded data removed]",
      "text/plain": [
       "<Figure size 432x288 with 1 Axes>"
      ]
     },
     "metadata": {
      "needs_background": "light"
     },
     "output_type": "display_data"
    }
   ],
   "source": [
    "accuracy = []\n",
    "max_acc = float('-inf')\n",
    "for threshold in np.arange(-0.5, 0.5, 0.0001):\n",
    "    pred = similarity_df_new[\"similarity_score\"] > threshold\n",
    "    acc = (pred == similarity_df_new[\"review_label\"]).sum()/pred.count()\n",
    "    accuracy.append(acc)\n",
    "    max_acc = max(acc, max_acc)\n",
    "plt.plot(accuracy)"
   ]
  },
  {
   "cell_type": "code",
   "execution_count": 42,
   "id": "b779965c",
   "metadata": {},
   "outputs": [
    {
     "data": {
      "text/plain": [
       "0.5896378309612785"
      ]
     },
     "execution_count": 42,
     "metadata": {},
     "output_type": "execute_result"
    }
   ],
   "source": [
    "max_acc"
   ]
  },
  {
   "cell_type": "code",
   "execution_count": 44,
   "id": "412e749b",
   "metadata": {},
   "outputs": [
    {
     "data": {
      "text/html": [
       "<div>\n",
       "<style scoped>\n",
       "    .dataframe tbody tr th:only-of-type {\n",
       "        vertical-align: middle;\n",
       "    }\n",
       "\n",
       "    .dataframe tbody tr th {\n",
       "        vertical-align: top;\n",
       "    }\n",
       "\n",
       "    .dataframe thead th {\n",
       "        text-align: right;\n",
       "    }\n",
       "</style>\n",
       "<table border=\"1\" class=\"dataframe\">\n",
       "  <thead>\n",
       "    <tr style=\"text-align: right;\">\n",
       "      <th></th>\n",
       "      <th>movie_id</th>\n",
       "      <th>review_tokenized</th>\n",
       "      <th>synopsis_tokenized</th>\n",
       "      <th>similarity_score</th>\n",
       "    </tr>\n",
       "    <tr>\n",
       "      <th>review_label</th>\n",
       "      <th></th>\n",
       "      <th></th>\n",
       "      <th></th>\n",
       "      <th></th>\n",
       "    </tr>\n",
       "  </thead>\n",
       "  <tbody>\n",
       "    <tr>\n",
       "      <th>False</th>\n",
       "      <td>422982</td>\n",
       "      <td>422982</td>\n",
       "      <td>422982</td>\n",
       "      <td>422982</td>\n",
       "    </tr>\n",
       "    <tr>\n",
       "      <th>True</th>\n",
       "      <td>150924</td>\n",
       "      <td>150924</td>\n",
       "      <td>150924</td>\n",
       "      <td>150924</td>\n",
       "    </tr>\n",
       "  </tbody>\n",
       "</table>\n",
       "</div>"
      ],
      "text/plain": [
       "              movie_id  review_tokenized  synopsis_tokenized  similarity_score\n",
       "review_label                                                                  \n",
       "False           422982            422982              422982            422982\n",
       "True            150924            150924              150924            150924"
      ]
     },
     "execution_count": 44,
     "metadata": {},
     "output_type": "execute_result"
    }
   ],
   "source": [
    "similarity_df.groupby(\"review_label\").count()"
   ]
  },
  {
   "cell_type": "code",
   "execution_count": null,
   "id": "dab22e3c",
   "metadata": {},
   "outputs": [],
   "source": []
  }
 ],
 "metadata": {
  "kernelspec": {
   "display_name": "Python 3",
   "language": "python",
   "name": "python3"
  },
  "language_info": {
   "codemirror_mode": {
    "name": "ipython",
    "version": 3
   },
   "file_extension": ".py",
   "mimetype": "text/x-python",
   "name": "python",
   "nbconvert_exporter": "python",
   "pygments_lexer": "ipython3",
   "version": "3.9.5"
  }
 },
 "nbformat": 4,
 "nbformat_minor": 5
}
