{
 "cells": [
  {
   "cell_type": "code",
   "execution_count": 1,
   "id": "032816fb",
   "metadata": {},
   "outputs": [],
   "source": [
    "import numpy as np\n",
    "import pandas as pd\n",
    "import nltk\n",
    "from nltk.tokenize import word_tokenize\n",
    "from nltk.corpus import stopwords\n",
    "from nltk.stem import PorterStemmer, WordNetLemmatizer\n",
    "from sklearn.linear_model import LogisticRegression\n",
    "from sklearn.feature_extraction.text import CountVectorizer, TfidfVectorizer\n",
    "from sklearn.metrics import recall_score, classification_report, confusion_matrix, ConfusionMatrixDisplay\n",
    "from sklearn.svm import SVC\n",
    "import tensorflow as tf\n",
    "from tensorflow.keras.preprocessing.text import Tokenizer\n",
    "from tensorflow.keras.utils import pad_sequences\n",
    "from tensorflow.keras.models import Sequential\n",
    "from tensorflow.keras.layers import Dense, LSTM, Embedding, Bidirectional, Dropout, SimpleRNN, InputLayer\n",
    "from tensorflow.keras.regularizers import L2\n",
    "import string"
   ]
  },
  {
   "cell_type": "code",
   "execution_count": 2,
   "id": "d3e51716",
   "metadata": {},
   "outputs": [],
   "source": [
    "df_movie_details = pd.read_json(\"../data/IMDB_movie_details.json\", lines = True)\n",
    "df_reviews = pd.read_json(\"../data/IMDB_reviews.json\", lines = True)"
   ]
  },
  {
   "cell_type": "markdown",
   "id": "3ea82421",
   "metadata": {},
   "source": [
    "## 1. Data Processing"
   ]
  },
  {
   "cell_type": "markdown",
   "id": "cdb85448",
   "metadata": {},
   "source": [
    "### 1.1 Data Cleaning"
   ]
  },
  {
   "cell_type": "code",
   "execution_count": 50,
   "id": "e03a22cd",
   "metadata": {},
   "outputs": [],
   "source": [
    "# Tokenization, lowercase, remove stop words, lemmatization\n",
    "def tokenize(text):\n",
    "    return word_tokenize(text)\n",
    "def lower_and_remove_stop_words(tokenized_text):\n",
    "    stop_words_and_punctuations = set(stopwords.words('english') + list(string.punctuation))\n",
    "    return [word.lower() for word in tokenized_text if word.lower() not in stop_words_and_punctuations]\n",
    "def lemmatize(word):\n",
    "    lemmatizer = WordNetLemmatizer()\n",
    "    lemmatized = lemmatizer.lemmatize(lemmatizer.lemmatize(lemmatizer.lemmatize(lemmatizer.lemmatize(word, pos = \"v\"), pos = \"a\"), pos = \"s\"))\n",
    "    return lemmatized\n",
    "\n",
    "def clean(text):\n",
    "    tokenized = tokenize(text)\n",
    "    no_stop_words = lower_and_remove_stop_words(tokenized)\n",
    "    lemmatized = [lemmatize(word) for word in no_stop_words]\n",
    "    return lemmatized\n",
    "\n",
    "df_reviews[\"tokenized_reviews\"] = df_reviews[\"review_text\"].apply(clean)\n",
    "df_reviews[\"text_tokenized\"] = df_reviews['tokenized_reviews'].apply(lambda x: ' '.join(x))"
   ]
  },
  {
   "cell_type": "code",
   "execution_count": 51,
   "id": "e31db7c9",
   "metadata": {},
   "outputs": [],
   "source": [
    "# Save cleaned dataset\n",
    "df_reviews.to_pickle(\"../data/cleaned_dataset.pkl.gz\", compression = 'gzip')"
   ]
  },
  {
   "cell_type": "code",
   "execution_count": 3,
   "id": "a3489587",
   "metadata": {},
   "outputs": [],
   "source": [
    "# Load cleaned dataset\n",
    "df_reviews = pd.read_pickle(\"../data/cleaned_dataset.pkl.gz\", compression = 'gzip')"
   ]
  },
  {
   "cell_type": "markdown",
   "id": "1b9b4c94",
   "metadata": {},
   "source": [
    "### 1.2 Train Test Split"
   ]
  },
  {
   "cell_type": "code",
   "execution_count": 4,
   "id": "6cd81886",
   "metadata": {},
   "outputs": [],
   "source": [
    "# Split into training and testing data before further process\n",
    "df_movie_details[\"release_date\"] = pd.to_datetime(df_movie_details[\"release_date\"])\n",
    "\n",
    "train_movies = df_movie_details[\"movie_id\"].loc[df_movie_details[\"release_date\"] < pd.Timestamp(\"2015-01-01\")]\n",
    "test_movies = df_movie_details[\"movie_id\"].loc[df_movie_details[\"release_date\"] >= pd.Timestamp(\"2015-01-01\")]\n",
    "\n",
    "df_train = df_reviews.loc[df_reviews[\"movie_id\"].isin(train_movies)]\n",
    "df_test = df_reviews.loc[df_reviews[\"movie_id\"].isin(test_movies)]"
   ]
  },
  {
   "cell_type": "markdown",
   "id": "64cc2e9a",
   "metadata": {},
   "source": [
    "### 1.3 Imbalanced Data Mitigation"
   ]
  },
  {
   "cell_type": "code",
   "execution_count": 5,
   "id": "f734ffcb",
   "metadata": {},
   "outputs": [],
   "source": [
    "# Undersample both training and testing dataset separately\n",
    "df_train_spoiler = df_train.loc[df_reviews['is_spoiler'] == True]\n",
    "df_train_non_spoiler = df_train.loc[df_reviews['is_spoiler'] == False]\n",
    "\n",
    "df_train_non_spoiler = df_train_non_spoiler.sample(n = len(df_train_spoiler), random_state = 42)\n",
    "df_train = pd.concat([df_train_spoiler, df_train_non_spoiler])\n",
    "\n",
    "df_test_spoiler = df_test.loc[df_reviews['is_spoiler'] == True]\n",
    "df_test_non_spoiler = df_test.loc[df_reviews['is_spoiler'] == False]\n",
    "\n",
    "df_test_non_spoiler = df_test_non_spoiler.sample(n = df_test_spoiler[\"is_spoiler\"].count(), random_state = 42)\n",
    "df_test = pd.concat([df_test_spoiler, df_test_non_spoiler])"
   ]
  },
  {
   "cell_type": "markdown",
   "id": "aef203bc",
   "metadata": {},
   "source": [
    "## 2. Feature Engineering"
   ]
  },
  {
   "cell_type": "markdown",
   "id": "944427f9",
   "metadata": {},
   "source": [
    "### 2.1 Bag of Words"
   ]
  },
  {
   "cell_type": "code",
   "execution_count": 6,
   "id": "0b7307a9",
   "metadata": {},
   "outputs": [],
   "source": [
    "bow_vectorizer = CountVectorizer()\n",
    "bow_train = bow_vectorizer.fit_transform(df_train[\"text_tokenized\"])\n",
    "bow_test = bow_vectorizer.transform(df_test[\"text_tokenized\"])"
   ]
  },
  {
   "cell_type": "markdown",
   "id": "895ca26f",
   "metadata": {},
   "source": [
    "### 2.2 TF-IDF"
   ]
  },
  {
   "cell_type": "code",
   "execution_count": 7,
   "id": "9d3a890f",
   "metadata": {},
   "outputs": [],
   "source": [
    "tfidfvectorizer = TfidfVectorizer()\n",
    "tfidf_train = tfidfvectorizer.fit_transform(df_train['text_tokenized'])\n",
    "tfidf_test = tfidfvectorizer.transform(df_test['text_tokenized'])"
   ]
  },
  {
   "cell_type": "markdown",
   "id": "0b08263a",
   "metadata": {},
   "source": [
    "### 2.3 Word Embedding"
   ]
  },
  {
   "cell_type": "code",
   "execution_count": 18,
   "id": "42f049d0",
   "metadata": {},
   "outputs": [],
   "source": [
    "tokenizer = Tokenizer(num_words = 10000, oov_token = \"<OOV>\")\n",
    "tokenizer.fit_on_texts(df_train[\"text_tokenized\"])\n",
    "\n",
    "train_sequences = tokenizer.texts_to_sequences(df_train[\"text_tokenized\"])\n",
    "test_sequences = tokenizer.texts_to_sequences(df_test[\"text_tokenized\"])\n",
    "\n",
    "train_padded = pad_sequences(train_sequences, maxlen = 50, padding='post', truncating='post')\n",
    "test_padded = pad_sequences(test_sequences, maxlen = 50, padding='post', truncating='post')"
   ]
  },
  {
   "cell_type": "code",
   "execution_count": null,
   "id": "b83e40ab",
   "metadata": {},
   "outputs": [],
   "source": [
    "embedding_train = Embedding(input_dim = 10000, output_dim = 128, input_length = 50)(train_padded)\n",
    "embedding_test = Embedding(input_dim = 10000, output_dim = 128, input_length = 50)(test_padded)"
   ]
  },
  {
   "cell_type": "code",
   "execution_count": 9,
   "id": "800d5937",
   "metadata": {},
   "outputs": [],
   "source": [
    "embedding_train = embedding_train.numpy().mean(axis = 2)\n",
    "embedding_test = embedding_test.numpy().mean(axis = 2)"
   ]
  },
  {
   "cell_type": "markdown",
   "id": "ebff8eeb",
   "metadata": {},
   "source": [
    "## 3. Model Building"
   ]
  },
  {
   "cell_type": "code",
   "execution_count": 8,
   "id": "462e9d42",
   "metadata": {},
   "outputs": [],
   "source": [
    "# logistic regression model\n",
    "bow_logistic_model = LogisticRegression(max_iter = 1e5)\n",
    "tfidf_logistic_model = LogisticRegression(max_iter = 1e5)\n",
    "embedding_logistic_model = LogisticRegression(max_iter = 1e5)"
   ]
  },
  {
   "cell_type": "code",
   "execution_count": 9,
   "id": "0f2d417c",
   "metadata": {},
   "outputs": [
    {
     "name": "stdout",
     "output_type": "stream",
     "text": [
      "Confusion Matrix\n",
      "[[13657  7178]\n",
      " [ 7769 13066]]\n",
      "Classification Report\n",
      "              precision    recall  f1-score   support\n",
      "\n",
      "       False       0.64      0.66      0.65     20835\n",
      "        True       0.65      0.63      0.64     20835\n",
      "\n",
      "    accuracy                           0.64     41670\n",
      "   macro avg       0.64      0.64      0.64     41670\n",
      "weighted avg       0.64      0.64      0.64     41670\n",
      "\n"
     ]
    }
   ],
   "source": [
    "bow_logistic_model.fit(bow_train, df_train[\"is_spoiler\"])\n",
    "y_test = df_test[\"is_spoiler\"]\n",
    "y_pred = bow_logistic_model.predict(bow_test)\n",
    "\n",
    "print(\"Confusion Matrix\")\n",
    "print(confusion_matrix(y_test, y_pred))\n",
    "\n",
    "print(\"Classification Report\")\n",
    "print(classification_report(y_test, y_pred))"
   ]
  },
  {
   "cell_type": "code",
   "execution_count": 10,
   "id": "0911535b",
   "metadata": {},
   "outputs": [
    {
     "name": "stdout",
     "output_type": "stream",
     "text": [
      "Confusion Matrix\n",
      "[[13920  6915]\n",
      " [ 6883 13952]]\n",
      "Classification Report\n",
      "              precision    recall  f1-score   support\n",
      "\n",
      "       False       0.67      0.67      0.67     20835\n",
      "        True       0.67      0.67      0.67     20835\n",
      "\n",
      "    accuracy                           0.67     41670\n",
      "   macro avg       0.67      0.67      0.67     41670\n",
      "weighted avg       0.67      0.67      0.67     41670\n",
      "\n"
     ]
    }
   ],
   "source": [
    "tfidf_logistic_model.fit(tfidf_train, df_train[\"is_spoiler\"])\n",
    "y_test = df_test[\"is_spoiler\"]\n",
    "y_pred = tfidf_logistic_model.predict(tfidf_test)\n",
    "\n",
    "print(\"Confusion Matrix\")\n",
    "print(confusion_matrix(y_test, y_pred))\n",
    "\n",
    "print(\"Classification Report\")\n",
    "print(classification_report(y_test, y_pred))"
   ]
  },
  {
   "cell_type": "code",
   "execution_count": 14,
   "id": "becd2dd1",
   "metadata": {},
   "outputs": [
    {
     "name": "stdout",
     "output_type": "stream",
     "text": [
      "Confusion Matrix\n",
      "[[11294  9541]\n",
      " [10611 10224]]\n",
      "Classification Report\n",
      "              precision    recall  f1-score   support\n",
      "\n",
      "       False       0.52      0.54      0.53     20835\n",
      "        True       0.52      0.49      0.50     20835\n",
      "\n",
      "    accuracy                           0.52     41670\n",
      "   macro avg       0.52      0.52      0.52     41670\n",
      "weighted avg       0.52      0.52      0.52     41670\n",
      "\n"
     ]
    }
   ],
   "source": [
    "embedding_logistic_model.fit(embedding_train, df_train[\"is_spoiler\"])\n",
    "y_test = df_test[\"is_spoiler\"]\n",
    "y_pred = embedding_logistic_model.predict(embedding_test)\n",
    "\n",
    "print(\"Confusion Matrix\")\n",
    "print(confusion_matrix(y_test, y_pred))\n",
    "\n",
    "print(\"Classification Report\")\n",
    "print(classification_report(y_test, y_pred))"
   ]
  },
  {
   "cell_type": "code",
   "execution_count": 30,
   "id": "8c9df96e",
   "metadata": {},
   "outputs": [],
   "source": [
    "# svm_model\n",
    "bow_svm_model = SVC(kernel = \"sigmoid\", max_iter = 1e4)\n",
    "tfidf_svm_model = SVC(kernel = \"sigmoid\", max_iter = 1e4)"
   ]
  },
  {
   "cell_type": "code",
   "execution_count": null,
   "id": "8f6ba22f",
   "metadata": {},
   "outputs": [],
   "source": [
    "bow_svm_model.fit(bow_train, df_train[\"is_spoiler\"])\n",
    "y_test = df_test[\"is_spoiler\"]\n",
    "y_pred = bow_svm_model.predict(bow_test)\n",
    "\n",
    "print(\"Confusion Matrix\")\n",
    "print(confusion_matrix(y_test, y_pred))\n",
    "\n",
    "print(\"Classification Report\")\n",
    "print(classification_report(y_test, y_pred))"
   ]
  },
  {
   "cell_type": "code",
   "execution_count": null,
   "id": "c1a9445b",
   "metadata": {},
   "outputs": [],
   "source": [
    "tfidf_svm_model.fit(tfidf_train, df_train[\"is_spoiler\"])\n",
    "y_test = df_test[\"is_spoiler\"]\n",
    "y_pred = tfidf_svm_model.predict(tfidf_test)\n",
    "\n",
    "print(\"Confusion Matrix\")\n",
    "print(confusion_matrix(y_test, y_pred))\n",
    "\n",
    "print(\"Classification Report\")\n",
    "print(classification_report(y_test, y_pred))"
   ]
  },
  {
   "cell_type": "code",
   "execution_count": 12,
   "id": "16070223",
   "metadata": {},
   "outputs": [],
   "source": [
    "tfidf_coo_train = tfidf_train.tocoo()\n",
    "indices = np.mat([tfidf_coo_train.row, tfidf_coo_train.col]).transpose()\n",
    "tfidf_sparse_train = tf.sparse.reorder(tf.SparseTensor(indices, tfidf_coo_train.data, tfidf_coo_train.shape))\n",
    "\n",
    "tfidf_coo_test = tfidf_test.tocoo()\n",
    "indices = np.mat([tfidf_coo_test.row, tfidf_coo_test.col]).transpose()\n",
    "tfidf_sparse_test = tf.sparse.reorder(tf.SparseTensor(indices, tfidf_coo_test.data, tfidf_coo_test.shape))"
   ]
  },
  {
   "cell_type": "code",
   "execution_count": 13,
   "id": "44047cc8",
   "metadata": {},
   "outputs": [],
   "source": [
    "model = Sequential()\n",
    "model.add(InputLayer(input_shape = (tfidf_train.shape[1],), sparse = True))\n",
    "model.add(Dense(128, activation = \"relu\", kernel_regularizer = L2(1e-3)))\n",
    "model.add(Dropout(0.2))\n",
    "model.add(Dense(1, activation = \"sigmoid\"))\n",
    "\n",
    "model.compile(optimizer = \"adam\", loss = \"binary_crossentropy\", metrics = [\"accuracy\"])"
   ]
  },
  {
   "cell_type": "code",
   "execution_count": 15,
   "id": "48eed0fc",
   "metadata": {},
   "outputs": [
    {
     "name": "stdout",
     "output_type": "stream",
     "text": [
      "  28/8131 [..............................] - ETA: 38:52 - loss: 0.7304 - accuracy: 0.5513"
     ]
    },
    {
     "ename": "KeyboardInterrupt",
     "evalue": "",
     "output_type": "error",
     "traceback": [
      "\u001b[1;31m---------------------------------------------------------------------------\u001b[0m",
      "\u001b[1;31mKeyboardInterrupt\u001b[0m                         Traceback (most recent call last)",
      "\u001b[1;32m<ipython-input-15-195afaeb50e2>\u001b[0m in \u001b[0;36m<module>\u001b[1;34m\u001b[0m\n\u001b[1;32m----> 1\u001b[1;33m \u001b[0mmodel\u001b[0m\u001b[1;33m.\u001b[0m\u001b[0mfit\u001b[0m\u001b[1;33m(\u001b[0m\u001b[0mtfidf_sparse_train\u001b[0m\u001b[1;33m,\u001b[0m \u001b[0mdf_train\u001b[0m\u001b[1;33m[\u001b[0m\u001b[1;34m\"is_spoiler\"\u001b[0m\u001b[1;33m]\u001b[0m\u001b[1;33m.\u001b[0m\u001b[0mto_numpy\u001b[0m\u001b[1;33m(\u001b[0m\u001b[1;33m)\u001b[0m\u001b[1;33m,\u001b[0m \u001b[0mvalidation_data\u001b[0m \u001b[1;33m=\u001b[0m \u001b[1;33m(\u001b[0m\u001b[0mtfidf_sparse_test\u001b[0m\u001b[1;33m,\u001b[0m \u001b[0mdf_test\u001b[0m\u001b[1;33m[\u001b[0m\u001b[1;34m\"is_spoiler\"\u001b[0m\u001b[1;33m]\u001b[0m\u001b[1;33m.\u001b[0m\u001b[0mto_numpy\u001b[0m\u001b[1;33m(\u001b[0m\u001b[1;33m)\u001b[0m\u001b[1;33m)\u001b[0m\u001b[1;33m,\u001b[0m \u001b[0mepochs\u001b[0m \u001b[1;33m=\u001b[0m \u001b[1;36m1\u001b[0m\u001b[1;33m)\u001b[0m\u001b[1;33m\u001b[0m\u001b[1;33m\u001b[0m\u001b[0m\n\u001b[0m",
      "\u001b[1;32m~\\AppData\\Local\\Programs\\Python\\Python39\\lib\\site-packages\\keras\\src\\utils\\traceback_utils.py\u001b[0m in \u001b[0;36merror_handler\u001b[1;34m(*args, **kwargs)\u001b[0m\n\u001b[0;32m     63\u001b[0m         \u001b[0mfiltered_tb\u001b[0m \u001b[1;33m=\u001b[0m \u001b[1;32mNone\u001b[0m\u001b[1;33m\u001b[0m\u001b[1;33m\u001b[0m\u001b[0m\n\u001b[0;32m     64\u001b[0m         \u001b[1;32mtry\u001b[0m\u001b[1;33m:\u001b[0m\u001b[1;33m\u001b[0m\u001b[1;33m\u001b[0m\u001b[0m\n\u001b[1;32m---> 65\u001b[1;33m             \u001b[1;32mreturn\u001b[0m \u001b[0mfn\u001b[0m\u001b[1;33m(\u001b[0m\u001b[1;33m*\u001b[0m\u001b[0margs\u001b[0m\u001b[1;33m,\u001b[0m \u001b[1;33m**\u001b[0m\u001b[0mkwargs\u001b[0m\u001b[1;33m)\u001b[0m\u001b[1;33m\u001b[0m\u001b[1;33m\u001b[0m\u001b[0m\n\u001b[0m\u001b[0;32m     66\u001b[0m         \u001b[1;32mexcept\u001b[0m \u001b[0mException\u001b[0m \u001b[1;32mas\u001b[0m \u001b[0me\u001b[0m\u001b[1;33m:\u001b[0m\u001b[1;33m\u001b[0m\u001b[1;33m\u001b[0m\u001b[0m\n\u001b[0;32m     67\u001b[0m             \u001b[0mfiltered_tb\u001b[0m \u001b[1;33m=\u001b[0m \u001b[0m_process_traceback_frames\u001b[0m\u001b[1;33m(\u001b[0m\u001b[0me\u001b[0m\u001b[1;33m.\u001b[0m\u001b[0m__traceback__\u001b[0m\u001b[1;33m)\u001b[0m\u001b[1;33m\u001b[0m\u001b[1;33m\u001b[0m\u001b[0m\n",
      "\u001b[1;32m~\\AppData\\Local\\Programs\\Python\\Python39\\lib\\site-packages\\keras\\src\\engine\\training.py\u001b[0m in \u001b[0;36mfit\u001b[1;34m(self, x, y, batch_size, epochs, verbose, callbacks, validation_split, validation_data, shuffle, class_weight, sample_weight, initial_epoch, steps_per_epoch, validation_steps, validation_batch_size, validation_freq, max_queue_size, workers, use_multiprocessing)\u001b[0m\n\u001b[0;32m   1740\u001b[0m                         ):\n\u001b[0;32m   1741\u001b[0m                             \u001b[0mcallbacks\u001b[0m\u001b[1;33m.\u001b[0m\u001b[0mon_train_batch_begin\u001b[0m\u001b[1;33m(\u001b[0m\u001b[0mstep\u001b[0m\u001b[1;33m)\u001b[0m\u001b[1;33m\u001b[0m\u001b[1;33m\u001b[0m\u001b[0m\n\u001b[1;32m-> 1742\u001b[1;33m                             \u001b[0mtmp_logs\u001b[0m \u001b[1;33m=\u001b[0m \u001b[0mself\u001b[0m\u001b[1;33m.\u001b[0m\u001b[0mtrain_function\u001b[0m\u001b[1;33m(\u001b[0m\u001b[0miterator\u001b[0m\u001b[1;33m)\u001b[0m\u001b[1;33m\u001b[0m\u001b[1;33m\u001b[0m\u001b[0m\n\u001b[0m\u001b[0;32m   1743\u001b[0m                             \u001b[1;32mif\u001b[0m \u001b[0mdata_handler\u001b[0m\u001b[1;33m.\u001b[0m\u001b[0mshould_sync\u001b[0m\u001b[1;33m:\u001b[0m\u001b[1;33m\u001b[0m\u001b[1;33m\u001b[0m\u001b[0m\n\u001b[0;32m   1744\u001b[0m                                 \u001b[0mcontext\u001b[0m\u001b[1;33m.\u001b[0m\u001b[0masync_wait\u001b[0m\u001b[1;33m(\u001b[0m\u001b[1;33m)\u001b[0m\u001b[1;33m\u001b[0m\u001b[1;33m\u001b[0m\u001b[0m\n",
      "\u001b[1;32m~\\AppData\\Local\\Programs\\Python\\Python39\\lib\\site-packages\\tensorflow\\python\\util\\traceback_utils.py\u001b[0m in \u001b[0;36merror_handler\u001b[1;34m(*args, **kwargs)\u001b[0m\n\u001b[0;32m    148\u001b[0m     \u001b[0mfiltered_tb\u001b[0m \u001b[1;33m=\u001b[0m \u001b[1;32mNone\u001b[0m\u001b[1;33m\u001b[0m\u001b[1;33m\u001b[0m\u001b[0m\n\u001b[0;32m    149\u001b[0m     \u001b[1;32mtry\u001b[0m\u001b[1;33m:\u001b[0m\u001b[1;33m\u001b[0m\u001b[1;33m\u001b[0m\u001b[0m\n\u001b[1;32m--> 150\u001b[1;33m       \u001b[1;32mreturn\u001b[0m \u001b[0mfn\u001b[0m\u001b[1;33m(\u001b[0m\u001b[1;33m*\u001b[0m\u001b[0margs\u001b[0m\u001b[1;33m,\u001b[0m \u001b[1;33m**\u001b[0m\u001b[0mkwargs\u001b[0m\u001b[1;33m)\u001b[0m\u001b[1;33m\u001b[0m\u001b[1;33m\u001b[0m\u001b[0m\n\u001b[0m\u001b[0;32m    151\u001b[0m     \u001b[1;32mexcept\u001b[0m \u001b[0mException\u001b[0m \u001b[1;32mas\u001b[0m \u001b[0me\u001b[0m\u001b[1;33m:\u001b[0m\u001b[1;33m\u001b[0m\u001b[1;33m\u001b[0m\u001b[0m\n\u001b[0;32m    152\u001b[0m       \u001b[0mfiltered_tb\u001b[0m \u001b[1;33m=\u001b[0m \u001b[0m_process_traceback_frames\u001b[0m\u001b[1;33m(\u001b[0m\u001b[0me\u001b[0m\u001b[1;33m.\u001b[0m\u001b[0m__traceback__\u001b[0m\u001b[1;33m)\u001b[0m\u001b[1;33m\u001b[0m\u001b[1;33m\u001b[0m\u001b[0m\n",
      "\u001b[1;32m~\\AppData\\Local\\Programs\\Python\\Python39\\lib\\site-packages\\tensorflow\\python\\eager\\polymorphic_function\\polymorphic_function.py\u001b[0m in \u001b[0;36m__call__\u001b[1;34m(self, *args, **kwds)\u001b[0m\n\u001b[0;32m    823\u001b[0m \u001b[1;33m\u001b[0m\u001b[0m\n\u001b[0;32m    824\u001b[0m       \u001b[1;32mwith\u001b[0m \u001b[0mOptionalXlaContext\u001b[0m\u001b[1;33m(\u001b[0m\u001b[0mself\u001b[0m\u001b[1;33m.\u001b[0m\u001b[0m_jit_compile\u001b[0m\u001b[1;33m)\u001b[0m\u001b[1;33m:\u001b[0m\u001b[1;33m\u001b[0m\u001b[1;33m\u001b[0m\u001b[0m\n\u001b[1;32m--> 825\u001b[1;33m         \u001b[0mresult\u001b[0m \u001b[1;33m=\u001b[0m \u001b[0mself\u001b[0m\u001b[1;33m.\u001b[0m\u001b[0m_call\u001b[0m\u001b[1;33m(\u001b[0m\u001b[1;33m*\u001b[0m\u001b[0margs\u001b[0m\u001b[1;33m,\u001b[0m \u001b[1;33m**\u001b[0m\u001b[0mkwds\u001b[0m\u001b[1;33m)\u001b[0m\u001b[1;33m\u001b[0m\u001b[1;33m\u001b[0m\u001b[0m\n\u001b[0m\u001b[0;32m    826\u001b[0m \u001b[1;33m\u001b[0m\u001b[0m\n\u001b[0;32m    827\u001b[0m       \u001b[0mnew_tracing_count\u001b[0m \u001b[1;33m=\u001b[0m \u001b[0mself\u001b[0m\u001b[1;33m.\u001b[0m\u001b[0mexperimental_get_tracing_count\u001b[0m\u001b[1;33m(\u001b[0m\u001b[1;33m)\u001b[0m\u001b[1;33m\u001b[0m\u001b[1;33m\u001b[0m\u001b[0m\n",
      "\u001b[1;32m~\\AppData\\Local\\Programs\\Python\\Python39\\lib\\site-packages\\tensorflow\\python\\eager\\polymorphic_function\\polymorphic_function.py\u001b[0m in \u001b[0;36m_call\u001b[1;34m(self, *args, **kwds)\u001b[0m\n\u001b[0;32m    855\u001b[0m       \u001b[1;31m# In this case we have created variables on the first call, so we run the\u001b[0m\u001b[1;33m\u001b[0m\u001b[1;33m\u001b[0m\u001b[1;33m\u001b[0m\u001b[0m\n\u001b[0;32m    856\u001b[0m       \u001b[1;31m# defunned version which is guaranteed to never create variables.\u001b[0m\u001b[1;33m\u001b[0m\u001b[1;33m\u001b[0m\u001b[1;33m\u001b[0m\u001b[0m\n\u001b[1;32m--> 857\u001b[1;33m       \u001b[1;32mreturn\u001b[0m \u001b[0mself\u001b[0m\u001b[1;33m.\u001b[0m\u001b[0m_no_variable_creation_fn\u001b[0m\u001b[1;33m(\u001b[0m\u001b[1;33m*\u001b[0m\u001b[0margs\u001b[0m\u001b[1;33m,\u001b[0m \u001b[1;33m**\u001b[0m\u001b[0mkwds\u001b[0m\u001b[1;33m)\u001b[0m  \u001b[1;31m# pylint: disable=not-callable\u001b[0m\u001b[1;33m\u001b[0m\u001b[1;33m\u001b[0m\u001b[0m\n\u001b[0m\u001b[0;32m    858\u001b[0m     \u001b[1;32melif\u001b[0m \u001b[0mself\u001b[0m\u001b[1;33m.\u001b[0m\u001b[0m_variable_creation_fn\u001b[0m \u001b[1;32mis\u001b[0m \u001b[1;32mnot\u001b[0m \u001b[1;32mNone\u001b[0m\u001b[1;33m:\u001b[0m\u001b[1;33m\u001b[0m\u001b[1;33m\u001b[0m\u001b[0m\n\u001b[0;32m    859\u001b[0m       \u001b[1;31m# Release the lock early so that multiple threads can perform the call\u001b[0m\u001b[1;33m\u001b[0m\u001b[1;33m\u001b[0m\u001b[1;33m\u001b[0m\u001b[0m\n",
      "\u001b[1;32m~\\AppData\\Local\\Programs\\Python\\Python39\\lib\\site-packages\\tensorflow\\python\\eager\\polymorphic_function\\tracing_compiler.py\u001b[0m in \u001b[0;36m__call__\u001b[1;34m(self, *args, **kwargs)\u001b[0m\n\u001b[0;32m    146\u001b[0m       (concrete_function,\n\u001b[0;32m    147\u001b[0m        filtered_flat_args) = self._maybe_define_function(args, kwargs)\n\u001b[1;32m--> 148\u001b[1;33m     return concrete_function._call_flat(\n\u001b[0m\u001b[0;32m    149\u001b[0m         filtered_flat_args, captured_inputs=concrete_function.captured_inputs)  # pylint: disable=protected-access\n\u001b[0;32m    150\u001b[0m \u001b[1;33m\u001b[0m\u001b[0m\n",
      "\u001b[1;32m~\\AppData\\Local\\Programs\\Python\\Python39\\lib\\site-packages\\tensorflow\\python\\eager\\polymorphic_function\\monomorphic_function.py\u001b[0m in \u001b[0;36m_call_flat\u001b[1;34m(self, args, captured_inputs)\u001b[0m\n\u001b[0;32m   1347\u001b[0m         and executing_eagerly):\n\u001b[0;32m   1348\u001b[0m       \u001b[1;31m# No tape is watching; skip to running the function.\u001b[0m\u001b[1;33m\u001b[0m\u001b[1;33m\u001b[0m\u001b[1;33m\u001b[0m\u001b[0m\n\u001b[1;32m-> 1349\u001b[1;33m       \u001b[1;32mreturn\u001b[0m \u001b[0mself\u001b[0m\u001b[1;33m.\u001b[0m\u001b[0m_build_call_outputs\u001b[0m\u001b[1;33m(\u001b[0m\u001b[0mself\u001b[0m\u001b[1;33m.\u001b[0m\u001b[0m_inference_function\u001b[0m\u001b[1;33m(\u001b[0m\u001b[1;33m*\u001b[0m\u001b[0margs\u001b[0m\u001b[1;33m)\u001b[0m\u001b[1;33m)\u001b[0m\u001b[1;33m\u001b[0m\u001b[1;33m\u001b[0m\u001b[0m\n\u001b[0m\u001b[0;32m   1350\u001b[0m     forward_backward = self._select_forward_and_backward_functions(\n\u001b[0;32m   1351\u001b[0m         \u001b[0margs\u001b[0m\u001b[1;33m,\u001b[0m\u001b[1;33m\u001b[0m\u001b[1;33m\u001b[0m\u001b[0m\n",
      "\u001b[1;32m~\\AppData\\Local\\Programs\\Python\\Python39\\lib\\site-packages\\tensorflow\\python\\eager\\polymorphic_function\\atomic_function.py\u001b[0m in \u001b[0;36m__call__\u001b[1;34m(self, *args)\u001b[0m\n\u001b[0;32m    194\u001b[0m         \u001b[1;32mwith\u001b[0m \u001b[0mrecord\u001b[0m\u001b[1;33m.\u001b[0m\u001b[0mstop_recording\u001b[0m\u001b[1;33m(\u001b[0m\u001b[1;33m)\u001b[0m\u001b[1;33m:\u001b[0m\u001b[1;33m\u001b[0m\u001b[1;33m\u001b[0m\u001b[0m\n\u001b[0;32m    195\u001b[0m           \u001b[1;32mif\u001b[0m \u001b[0mself\u001b[0m\u001b[1;33m.\u001b[0m\u001b[0m_bound_context\u001b[0m\u001b[1;33m.\u001b[0m\u001b[0mexecuting_eagerly\u001b[0m\u001b[1;33m(\u001b[0m\u001b[1;33m)\u001b[0m\u001b[1;33m:\u001b[0m\u001b[1;33m\u001b[0m\u001b[1;33m\u001b[0m\u001b[0m\n\u001b[1;32m--> 196\u001b[1;33m             outputs = self._bound_context.call_function(\n\u001b[0m\u001b[0;32m    197\u001b[0m                 \u001b[0mself\u001b[0m\u001b[1;33m.\u001b[0m\u001b[0mname\u001b[0m\u001b[1;33m,\u001b[0m\u001b[1;33m\u001b[0m\u001b[1;33m\u001b[0m\u001b[0m\n\u001b[0;32m    198\u001b[0m                 \u001b[0mlist\u001b[0m\u001b[1;33m(\u001b[0m\u001b[0margs\u001b[0m\u001b[1;33m)\u001b[0m\u001b[1;33m,\u001b[0m\u001b[1;33m\u001b[0m\u001b[1;33m\u001b[0m\u001b[0m\n",
      "\u001b[1;32m~\\AppData\\Local\\Programs\\Python\\Python39\\lib\\site-packages\\tensorflow\\python\\eager\\context.py\u001b[0m in \u001b[0;36mcall_function\u001b[1;34m(self, name, tensor_inputs, num_outputs)\u001b[0m\n\u001b[0;32m   1455\u001b[0m     \u001b[0mcancellation_context\u001b[0m \u001b[1;33m=\u001b[0m \u001b[0mcancellation\u001b[0m\u001b[1;33m.\u001b[0m\u001b[0mcontext\u001b[0m\u001b[1;33m(\u001b[0m\u001b[1;33m)\u001b[0m\u001b[1;33m\u001b[0m\u001b[1;33m\u001b[0m\u001b[0m\n\u001b[0;32m   1456\u001b[0m     \u001b[1;32mif\u001b[0m \u001b[0mcancellation_context\u001b[0m \u001b[1;32mis\u001b[0m \u001b[1;32mNone\u001b[0m\u001b[1;33m:\u001b[0m\u001b[1;33m\u001b[0m\u001b[1;33m\u001b[0m\u001b[0m\n\u001b[1;32m-> 1457\u001b[1;33m       outputs = execute.execute(\n\u001b[0m\u001b[0;32m   1458\u001b[0m           \u001b[0mname\u001b[0m\u001b[1;33m.\u001b[0m\u001b[0mdecode\u001b[0m\u001b[1;33m(\u001b[0m\u001b[1;34m\"utf-8\"\u001b[0m\u001b[1;33m)\u001b[0m\u001b[1;33m,\u001b[0m\u001b[1;33m\u001b[0m\u001b[1;33m\u001b[0m\u001b[0m\n\u001b[0;32m   1459\u001b[0m           \u001b[0mnum_outputs\u001b[0m\u001b[1;33m=\u001b[0m\u001b[0mnum_outputs\u001b[0m\u001b[1;33m,\u001b[0m\u001b[1;33m\u001b[0m\u001b[1;33m\u001b[0m\u001b[0m\n",
      "\u001b[1;32m~\\AppData\\Local\\Programs\\Python\\Python39\\lib\\site-packages\\tensorflow\\python\\eager\\execute.py\u001b[0m in \u001b[0;36mquick_execute\u001b[1;34m(op_name, num_outputs, inputs, attrs, ctx, name)\u001b[0m\n\u001b[0;32m     51\u001b[0m   \u001b[1;32mtry\u001b[0m\u001b[1;33m:\u001b[0m\u001b[1;33m\u001b[0m\u001b[1;33m\u001b[0m\u001b[0m\n\u001b[0;32m     52\u001b[0m     \u001b[0mctx\u001b[0m\u001b[1;33m.\u001b[0m\u001b[0mensure_initialized\u001b[0m\u001b[1;33m(\u001b[0m\u001b[1;33m)\u001b[0m\u001b[1;33m\u001b[0m\u001b[1;33m\u001b[0m\u001b[0m\n\u001b[1;32m---> 53\u001b[1;33m     tensors = pywrap_tfe.TFE_Py_Execute(ctx._handle, device_name, op_name,\n\u001b[0m\u001b[0;32m     54\u001b[0m                                         inputs, attrs, num_outputs)\n\u001b[0;32m     55\u001b[0m   \u001b[1;32mexcept\u001b[0m \u001b[0mcore\u001b[0m\u001b[1;33m.\u001b[0m\u001b[0m_NotOkStatusException\u001b[0m \u001b[1;32mas\u001b[0m \u001b[0me\u001b[0m\u001b[1;33m:\u001b[0m\u001b[1;33m\u001b[0m\u001b[1;33m\u001b[0m\u001b[0m\n",
      "\u001b[1;31mKeyboardInterrupt\u001b[0m: "
     ]
    }
   ],
   "source": [
    "model.fit(tfidf_sparse_train, df_train[\"is_spoiler\"].to_numpy(), validation_data = (tfidf_sparse_test, df_test[\"is_spoiler\"].to_numpy()), epochs = 1)"
   ]
  },
  {
   "cell_type": "code",
   "execution_count": 16,
   "id": "290fe8b0",
   "metadata": {},
   "outputs": [],
   "source": [
    "# RNN model\n",
    "rnn_model = Sequential()\n",
    "rnn_model.add(Embedding(input_dim = 10000, output_dim = 128, input_length = 50))\n",
    "rnn_model.add(SimpleRNN(units = 128, kernel_regularizer = L2(1e-3)))\n",
    "rnn_model.add(Dropout(0.2))\n",
    "rnn_model.add(Dense(128, activation = \"relu\"))\n",
    "rnn_model.add(Dense(1, activation='sigmoid'))\n",
    "\n",
    "rnn_model.compile(optimizer = \"adam\", loss='binary_crossentropy', metrics=['accuracy'])"
   ]
  },
  {
   "cell_type": "code",
   "execution_count": 21,
   "id": "c64a4f8c",
   "metadata": {
    "scrolled": true
   },
   "outputs": [
    {
     "name": "stdout",
     "output_type": "stream",
     "text": [
      "Epoch 1/10\n",
      "8131/8131 [==============================] - 146s 18ms/step - loss: 0.6743 - accuracy: 0.5484 - val_loss: 0.7093 - val_accuracy: 0.5000\n",
      "Epoch 2/10\n",
      "8131/8131 [==============================] - 622s 77ms/step - loss: 0.6696 - accuracy: 0.5472 - val_loss: 0.7008 - val_accuracy: 0.5351\n",
      "Epoch 3/10\n",
      "8131/8131 [==============================] - 150s 18ms/step - loss: 0.6682 - accuracy: 0.5497 - val_loss: 0.6990 - val_accuracy: 0.5348\n",
      "Epoch 4/10\n",
      "8131/8131 [==============================] - 151s 19ms/step - loss: 0.6680 - accuracy: 0.5500 - val_loss: 0.6943 - val_accuracy: 0.5348\n",
      "Epoch 5/10\n",
      "8131/8131 [==============================] - 140s 17ms/step - loss: 0.6685 - accuracy: 0.5497 - val_loss: 0.7083 - val_accuracy: 0.5348\n",
      "Epoch 6/10\n",
      "8131/8131 [==============================] - 139s 17ms/step - loss: 0.6687 - accuracy: 0.5552 - val_loss: 0.6950 - val_accuracy: 0.5676\n",
      "Epoch 7/10\n",
      "8131/8131 [==============================] - 164s 20ms/step - loss: 0.6636 - accuracy: 0.5754 - val_loss: 0.6857 - val_accuracy: 0.5529\n",
      "Epoch 8/10\n",
      "8131/8131 [==============================] - 152s 19ms/step - loss: 0.6618 - accuracy: 0.5796 - val_loss: 0.6935 - val_accuracy: 0.5492\n",
      "Epoch 9/10\n",
      "8131/8131 [==============================] - 152s 19ms/step - loss: 0.6626 - accuracy: 0.5769 - val_loss: 0.6962 - val_accuracy: 0.5376\n",
      "Epoch 10/10\n",
      "8131/8131 [==============================] - 152s 19ms/step - loss: 0.6597 - accuracy: 0.5902 - val_loss: 0.7046 - val_accuracy: 0.5124\n"
     ]
    },
    {
     "data": {
      "text/plain": [
       "<keras.src.callbacks.History at 0x2bea9fa3a90>"
      ]
     },
     "execution_count": 21,
     "metadata": {},
     "output_type": "execute_result"
    }
   ],
   "source": [
    "rnn_model.fit(train_padded, df_train[\"is_spoiler\"], validation_data = (test_padded, df_test[\"is_spoiler\"]), epochs = 10)"
   ]
  },
  {
   "cell_type": "code",
   "execution_count": 27,
   "id": "d28f0e6f",
   "metadata": {},
   "outputs": [
    {
     "name": "stdout",
     "output_type": "stream",
     "text": [
      "Confusion Matrix\n",
      "[[19761  1074]\n",
      " [19245  1590]]\n",
      "Classification Report\n",
      "              precision    recall  f1-score   support\n",
      "\n",
      "       False       0.51      0.95      0.66     20835\n",
      "        True       0.60      0.08      0.14     20835\n",
      "\n",
      "    accuracy                           0.51     41670\n",
      "   macro avg       0.55      0.51      0.40     41670\n",
      "weighted avg       0.55      0.51      0.40     41670\n",
      "\n"
     ]
    }
   ],
   "source": [
    "y_test = df_test[\"is_spoiler\"]\n",
    "y_pred = rnn_model.predict(test_padded, verbose = False) > 0.5\n",
    "\n",
    "print(\"Confusion Matrix\")\n",
    "print(confusion_matrix(y_test, y_pred))\n",
    "\n",
    "print(\"Classification Report\")\n",
    "print(classification_report(y_test, y_pred))"
   ]
  },
  {
   "cell_type": "code",
   "execution_count": 19,
   "id": "85038d2f",
   "metadata": {},
   "outputs": [],
   "source": [
    "# LSTM model\n",
    "lstm_model = Sequential()\n",
    "lstm_model.add(Embedding(input_dim = 10000, output_dim = 128, input_length = 50))\n",
    "lstm_model.add(Bidirectional(LSTM(units = 128, kernel_regularizer = L2(1e-3))))\n",
    "lstm_model.add(Dropout(0.2))\n",
    "lstm_model.add(Dense(128, activation = \"relu\"))\n",
    "lstm_model.add(Dense(1, activation='sigmoid'))\n",
    "\n",
    "lstm_model.compile(optimizer = \"adam\", loss='binary_crossentropy', metrics=['accuracy'])"
   ]
  },
  {
   "cell_type": "code",
   "execution_count": 22,
   "id": "f2c316db",
   "metadata": {},
   "outputs": [
    {
     "name": "stdout",
     "output_type": "stream",
     "text": [
      "Epoch 1/10\n",
      "8131/8131 [==============================] - 535s 66ms/step - loss: 0.6323 - accuracy: 0.6281 - val_loss: 0.6825 - val_accuracy: 0.6083\n",
      "Epoch 2/10\n",
      "8131/8131 [==============================] - 515s 63ms/step - loss: 0.6112 - accuracy: 0.6543 - val_loss: 0.6801 - val_accuracy: 0.6060\n",
      "Epoch 3/10\n",
      "8131/8131 [==============================] - 523s 64ms/step - loss: 0.6006 - accuracy: 0.6679 - val_loss: 0.6781 - val_accuracy: 0.6057\n",
      "Epoch 4/10\n",
      "8131/8131 [==============================] - 487s 60ms/step - loss: 0.5906 - accuracy: 0.6784 - val_loss: 0.6808 - val_accuracy: 0.5981\n",
      "Epoch 5/10\n",
      "8131/8131 [==============================] - 466s 57ms/step - loss: 0.5803 - accuracy: 0.6891 - val_loss: 0.6932 - val_accuracy: 0.5989\n",
      "Epoch 6/10\n",
      "8131/8131 [==============================] - 475s 58ms/step - loss: 0.5706 - accuracy: 0.6996 - val_loss: 0.7028 - val_accuracy: 0.5951\n",
      "Epoch 7/10\n",
      "8131/8131 [==============================] - 479s 59ms/step - loss: 0.5584 - accuracy: 0.7105 - val_loss: 0.7241 - val_accuracy: 0.5970\n",
      "Epoch 8/10\n",
      "8131/8131 [==============================] - 474s 58ms/step - loss: 0.5455 - accuracy: 0.7195 - val_loss: 0.7119 - val_accuracy: 0.5982\n",
      "Epoch 9/10\n",
      "8131/8131 [==============================] - 471s 58ms/step - loss: 0.5335 - accuracy: 0.7287 - val_loss: 0.7209 - val_accuracy: 0.5878\n",
      "Epoch 10/10\n",
      "8131/8131 [==============================] - 475s 58ms/step - loss: 0.5225 - accuracy: 0.7368 - val_loss: 0.7677 - val_accuracy: 0.5907\n"
     ]
    },
    {
     "data": {
      "text/plain": [
       "<keras.src.callbacks.History at 0x2beb1a52640>"
      ]
     },
     "execution_count": 22,
     "metadata": {},
     "output_type": "execute_result"
    }
   ],
   "source": [
    "lstm_model.fit(train_padded, df_train[\"is_spoiler\"], validation_data = (test_padded, df_test[\"is_spoiler\"]), epochs = 10)"
   ]
  },
  {
   "cell_type": "code",
   "execution_count": 26,
   "id": "3072141b",
   "metadata": {},
   "outputs": [
    {
     "name": "stdout",
     "output_type": "stream",
     "text": [
      "Confusion Matrix\n",
      "[[11812  9023]\n",
      " [ 8032 12803]]\n",
      "Classification Report\n",
      "              precision    recall  f1-score   support\n",
      "\n",
      "       False       0.60      0.57      0.58     20835\n",
      "        True       0.59      0.61      0.60     20835\n",
      "\n",
      "    accuracy                           0.59     41670\n",
      "   macro avg       0.59      0.59      0.59     41670\n",
      "weighted avg       0.59      0.59      0.59     41670\n",
      "\n"
     ]
    }
   ],
   "source": [
    "y_test = df_test[\"is_spoiler\"]\n",
    "y_pred = lstm_model.predict(test_padded, verbose = False) > 0.5\n",
    "\n",
    "print(\"Confusion Matrix\")\n",
    "print(confusion_matrix(y_test, y_pred))\n",
    "\n",
    "print(\"Classification Report\")\n",
    "print(classification_report(y_test, y_pred))"
   ]
  },
  {
   "cell_type": "code",
   "execution_count": null,
   "id": "22af8a2b",
   "metadata": {},
   "outputs": [],
   "source": []
  }
 ],
 "metadata": {
  "kernelspec": {
   "display_name": "Python 3",
   "language": "python",
   "name": "python3"
  },
  "language_info": {
   "codemirror_mode": {
    "name": "ipython",
    "version": 3
   },
   "file_extension": ".py",
   "mimetype": "text/x-python",
   "name": "python",
   "nbconvert_exporter": "python",
   "pygments_lexer": "ipython3",
   "version": "3.9.5"
  }
 },
 "nbformat": 4,
 "nbformat_minor": 5
}
