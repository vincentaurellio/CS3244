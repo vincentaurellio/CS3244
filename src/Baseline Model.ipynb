{
 "cells": [
  {
   "cell_type": "code",
   "execution_count": 61,
   "id": "77d36cab",
   "metadata": {},
   "outputs": [],
   "source": [
    "import numpy as np\n",
    "import pandas as pd\n",
    "import nltk\n",
    "from nltk.tokenize import word_tokenize\n",
    "from nltk.corpus import stopwords\n",
    "from nltk.stem import PorterStemmer\n",
    "from sklearn.model_selection import train_test_split\n",
    "from sklearn.linear_model import LogisticRegression\n",
    "from sklearn.feature_extraction.text import CountVectorizer\n",
    "from sklearn.metrics import recall_score, classification_report\n",
    "import string"
   ]
  },
  {
   "cell_type": "markdown",
   "id": "5043cc78",
   "metadata": {},
   "source": [
    "## 1. Load the dataset"
   ]
  },
  {
   "cell_type": "code",
   "execution_count": 3,
   "id": "1b37ecab-b186-4d34-adef-e557f3715cea",
   "metadata": {},
   "outputs": [],
   "source": [
    "# load datasets given\n",
    "df_movie_details = pd.read_json(\"../data/IMDB_movie_details.json\", lines = True)\n",
    "df_reviews = pd.read_json(\"../data/IMDB_reviews.json\", lines = True)"
   ]
  },
  {
   "cell_type": "code",
   "execution_count": 3,
   "id": "88639b81",
   "metadata": {
    "scrolled": true
   },
   "outputs": [
    {
     "name": "stdout",
     "output_type": "stream",
     "text": [
      "<class 'pandas.core.frame.DataFrame'>\n",
      "RangeIndex: 1572 entries, 0 to 1571\n",
      "Data columns (total 7 columns):\n",
      " #   Column         Non-Null Count  Dtype  \n",
      "---  ------         --------------  -----  \n",
      " 0   movie_id       1572 non-null   object \n",
      " 1   plot_summary   1572 non-null   object \n",
      " 2   duration       1572 non-null   object \n",
      " 3   genre          1572 non-null   object \n",
      " 4   rating         1572 non-null   float64\n",
      " 5   release_date   1572 non-null   object \n",
      " 6   plot_synopsis  1572 non-null   object \n",
      "dtypes: float64(1), object(6)\n",
      "memory usage: 86.1+ KB\n"
     ]
    }
   ],
   "source": [
    "df_movie_details.info()"
   ]
  },
  {
   "cell_type": "code",
   "execution_count": 4,
   "id": "7dccfc42",
   "metadata": {
    "scrolled": true
   },
   "outputs": [
    {
     "name": "stdout",
     "output_type": "stream",
     "text": [
      "<class 'pandas.core.frame.DataFrame'>\n",
      "RangeIndex: 573913 entries, 0 to 573912\n",
      "Data columns (total 7 columns):\n",
      " #   Column          Non-Null Count   Dtype \n",
      "---  ------          --------------   ----- \n",
      " 0   review_date     573913 non-null  object\n",
      " 1   movie_id        573913 non-null  object\n",
      " 2   user_id         573913 non-null  object\n",
      " 3   is_spoiler      573913 non-null  bool  \n",
      " 4   review_text     573913 non-null  object\n",
      " 5   rating          573913 non-null  int64 \n",
      " 6   review_summary  573913 non-null  object\n",
      "dtypes: bool(1), int64(1), object(5)\n",
      "memory usage: 26.8+ MB\n"
     ]
    }
   ],
   "source": [
    "df_reviews.info()"
   ]
  },
  {
   "cell_type": "code",
   "execution_count": 4,
   "id": "843b85a7",
   "metadata": {},
   "outputs": [
    {
     "data": {
      "text/plain": [
       "False    422989\n",
       "True     150924\n",
       "Name: is_spoiler, dtype: int64"
      ]
     },
     "execution_count": 4,
     "metadata": {},
     "output_type": "execute_result"
    }
   ],
   "source": [
    "df_reviews['is_spoiler'].value_counts()"
   ]
  },
  {
   "cell_type": "code",
   "execution_count": 5,
   "id": "592b01a5",
   "metadata": {},
   "outputs": [],
   "source": [
    "df_reviews = pd.read_pickle(\"../data/tokenized_reviews.pkl.gz\", compression = 'gzip')"
   ]
  },
  {
   "cell_type": "markdown",
   "id": "a62430f7",
   "metadata": {},
   "source": [
    "## 2. Text Preprocessing"
   ]
  },
  {
   "cell_type": "markdown",
   "id": "87377180",
   "metadata": {},
   "source": [
    "### Tokenize review texts"
   ]
  },
  {
   "cell_type": "code",
   "execution_count": 3,
   "id": "ad9ceae3",
   "metadata": {},
   "outputs": [],
   "source": [
    "# TOKENIZING WILL TAKE ~15 MINUTES\n",
    "# If you want to save after tokenizing feel free to do so to save time in tokenizing again\n",
    "df_reviews['tokenized_summary'] = list(map(word_tokenize, df_reviews['review_summary']))\n",
    "df_reviews['tokenized_reviews'] = list(map(word_tokenize, df_reviews['review_text']))"
   ]
  },
  {
   "cell_type": "markdown",
   "id": "f7712e14",
   "metadata": {},
   "source": [
    "### Removing stop words and punctuations from the list"
   ]
  },
  {
   "cell_type": "code",
   "execution_count": 6,
   "id": "e85064f3",
   "metadata": {},
   "outputs": [],
   "source": [
    "# get stop words\n",
    "stop_words_and_punctuations = set(stopwords.words('english') + list(string.punctuation))"
   ]
  },
  {
   "cell_type": "code",
   "execution_count": 7,
   "id": "9701583d",
   "metadata": {},
   "outputs": [],
   "source": [
    "# remove stop words and punctuations from the tokenized list\n",
    "df_reviews['tokenized_summary'] = list(map(lambda x: [word.lower() for word in x if word.lower() not in stop_words_and_punctuations], df_reviews['tokenized_summary']))\n",
    "df_reviews['tokenized_reviews'] = list(map(lambda x: [word.lower() for word in x if word.lower() not in stop_words_and_punctuations], df_reviews['tokenized_reviews']))"
   ]
  },
  {
   "cell_type": "markdown",
   "id": "f9702f68",
   "metadata": {},
   "source": [
    "### Stemming or Lemmatisation -- (to be implemented)"
   ]
  },
  {
   "cell_type": "code",
   "execution_count": 6,
   "id": "2e5b8170",
   "metadata": {},
   "outputs": [],
   "source": [
    "# stem or lemmatise words\n",
    "stemmer = PorterStemmer()\n",
    "df_reviews['tokenized_summary'] = list(map(lambda x: [stemmer.stem(word) for word in x], df_reviews['tokenized_summary']))\n",
    "df_reviews['tokenized_reviews'] = list(map(lambda x: [stemmer.stem(word) for word in x], df_reviews['tokenized_reviews']))"
   ]
  },
  {
   "cell_type": "markdown",
   "id": "1e1fc0f5",
   "metadata": {},
   "source": [
    "### Save the new dataset"
   ]
  },
  {
   "cell_type": "code",
   "execution_count": 8,
   "id": "107773b0",
   "metadata": {},
   "outputs": [],
   "source": [
    "# save changes made to original dataset to save time tokenizing etc\n",
    "df_reviews.to_pickle(\"../data/cleaned_reviews.pkl.gz\", compression = 'gzip')"
   ]
  },
  {
   "cell_type": "code",
   "execution_count": null,
   "id": "089c875f",
   "metadata": {},
   "outputs": [],
   "source": []
  },
  {
   "cell_type": "code",
   "execution_count": 12,
   "id": "b5b8d4b4",
   "metadata": {},
   "outputs": [],
   "source": [
    "df_movie_details[\"release_date\"] = pd.to_datetime(df_movie_details[\"release_date\"])"
   ]
  },
  {
   "cell_type": "code",
   "execution_count": 25,
   "id": "8981ba24",
   "metadata": {},
   "outputs": [
    {
     "data": {
      "text/plain": [
       "True     1391\n",
       "False     181\n",
       "Name: release_date, dtype: int64"
      ]
     },
     "execution_count": 25,
     "metadata": {},
     "output_type": "execute_result"
    }
   ],
   "source": [
    "(df_movie_details[\"release_date\"] < \"2015-01-01\").value_counts()"
   ]
  },
  {
   "cell_type": "code",
   "execution_count": 5,
   "id": "a1a2c48d",
   "metadata": {},
   "outputs": [],
   "source": [
    "train_movies = df_movie_details[\"movie_id\"].loc[df_movie_details[\"release_date\"] < \"2015-01-01\"]\n",
    "test_movies = df_movie_details[\"movie_id\"].loc[df_movie_details[\"release_date\"] >= \"2015-01-01\"]"
   ]
  },
  {
   "cell_type": "code",
   "execution_count": 48,
   "id": "4d7b1751",
   "metadata": {
    "scrolled": false
   },
   "outputs": [
    {
     "data": {
      "text/plain": [
       "is_spoiler\n",
       "False    78\n",
       "True     26\n",
       "Name: is_spoiler, dtype: int64"
      ]
     },
     "execution_count": 48,
     "metadata": {},
     "output_type": "execute_result"
    }
   ],
   "source": [
    "df_reviews.groupby('movie_id')[\"is_spoiler\"].value_counts()[\"tt0012349\"]"
   ]
  },
  {
   "cell_type": "code",
   "execution_count": 6,
   "id": "a4f6fe6c",
   "metadata": {},
   "outputs": [],
   "source": [
    "df_reviews_spoiler = df_reviews.loc[df_reviews['is_spoiler'] == True]\n",
    "df_reviews_non_spoiler = df_reviews.loc[df_reviews['is_spoiler'] == False]"
   ]
  },
  {
   "cell_type": "code",
   "execution_count": 15,
   "id": "6e674850",
   "metadata": {},
   "outputs": [],
   "source": [
    "df_reviews_non_spoiler = df_reviews_non_spoiler.sample(n = df_reviews_spoiler[\"is_spoiler\"].count(), random_state = 42)\n",
    "df_reviews_sampled = pd.concat([df_reviews_spoiler, df_reviews_non_spoiler])"
   ]
  },
  {
   "cell_type": "markdown",
   "id": "f2babeb1",
   "metadata": {},
   "source": [
    "## 3. Model Building"
   ]
  },
  {
   "cell_type": "code",
   "execution_count": 4,
   "id": "7048bb41",
   "metadata": {},
   "outputs": [],
   "source": [
    "# Load the previously saved dataset\n",
    "df_reviews = pd.read_pickle(\"../data/cleaned_reviews.pkl.gz\", compression = 'gzip')"
   ]
  },
  {
   "cell_type": "markdown",
   "id": "f4369bd5",
   "metadata": {},
   "source": [
    "### Transform texts to numbers"
   ]
  },
  {
   "cell_type": "code",
   "execution_count": 64,
   "id": "5a7599a5",
   "metadata": {},
   "outputs": [],
   "source": [
    "df_reviews[\"text_tokenized\"] = list(map(lambda x: ' '.join(x), df_reviews['tokenized_reviews']))"
   ]
  },
  {
   "cell_type": "code",
   "execution_count": 5,
   "id": "1fcc61c9",
   "metadata": {},
   "outputs": [],
   "source": [
    "vectorizer = CountVectorizer()\n",
    "bow = vectorizer.fit_transform(df_reviews[\"text_tokenized\"])"
   ]
  },
  {
   "cell_type": "markdown",
   "id": "cc4ca2e3",
   "metadata": {},
   "source": [
    "### Create Model"
   ]
  },
  {
   "cell_type": "code",
   "execution_count": 17,
   "id": "0750ca0e",
   "metadata": {},
   "outputs": [],
   "source": [
    "X_train, X_test, y_train, y_test = train_test_split(bow, df_reviews.loc[:, 'is_spoiler'], test_size = 0.2)"
   ]
  },
  {
   "cell_type": "code",
   "execution_count": 18,
   "id": "fdc53557",
   "metadata": {
    "scrolled": true
   },
   "outputs": [
    {
     "name": "stderr",
     "output_type": "stream",
     "text": [
      "C:\\Users\\Vincent\\AppData\\Local\\Programs\\Python\\Python39\\lib\\site-packages\\sklearn\\linear_model\\_logistic.py:763: ConvergenceWarning: lbfgs failed to converge (status=1):\n",
      "STOP: TOTAL NO. of ITERATIONS REACHED LIMIT.\n",
      "\n",
      "Increase the number of iterations (max_iter) or scale the data as shown in:\n",
      "    https://scikit-learn.org/stable/modules/preprocessing.html\n",
      "Please also refer to the documentation for alternative solver options:\n",
      "    https://scikit-learn.org/stable/modules/linear_model.html#logistic-regression\n",
      "  n_iter_i = _check_optimize_result(\n"
     ]
    },
    {
     "data": {
      "text/plain": [
       "LogisticRegression(max_iter=1000.0)"
      ]
     },
     "execution_count": 18,
     "metadata": {},
     "output_type": "execute_result"
    }
   ],
   "source": [
    "logistic_model = LogisticRegression(max_iter = 1e3)\n",
    "logistic_model.fit(X_train, y_train)"
   ]
  },
  {
   "cell_type": "code",
   "execution_count": 19,
   "id": "5e28cf9d",
   "metadata": {
    "scrolled": true
   },
   "outputs": [
    {
     "data": {
      "text/plain": [
       "0.7660890549994337"
      ]
     },
     "execution_count": 19,
     "metadata": {},
     "output_type": "execute_result"
    }
   ],
   "source": [
    "logistic_model.score(X_test, y_test)"
   ]
  },
  {
   "cell_type": "code",
   "execution_count": null,
   "id": "88d48993",
   "metadata": {},
   "outputs": [],
   "source": [
    "from sklearn import svm\n",
    "clf = svm.SVC(kernel = 'rbf')\n",
    "clf.fit(X_train, y_train)"
   ]
  },
  {
   "cell_type": "code",
   "execution_count": null,
   "id": "0f74b6b0",
   "metadata": {},
   "outputs": [],
   "source": [
    "clf.score(X_test, y_test)"
   ]
  },
  {
   "cell_type": "code",
   "execution_count": null,
   "id": "8f99eeb6",
   "metadata": {},
   "outputs": [],
   "source": [
    "#sampling"
   ]
  },
  {
   "cell_type": "code",
   "execution_count": 16,
   "id": "74981fc9",
   "metadata": {},
   "outputs": [],
   "source": [
    "df_reviews_sampled[\"text_tokenized\"] = list(map(lambda x: ' '.join(x), df_reviews_sampled['tokenized_reviews']))"
   ]
  },
  {
   "cell_type": "code",
   "execution_count": 17,
   "id": "89d22778",
   "metadata": {},
   "outputs": [],
   "source": [
    "df_train = df_reviews_sampled.loc[df_reviews_sampled[\"movie_id\"].isin(train_movies)]\n",
    "df_test = df_reviews_sampled.loc[df_reviews_sampled[\"movie_id\"].isin(test_movies)]"
   ]
  },
  {
   "cell_type": "code",
   "execution_count": 18,
   "id": "edd5cc07",
   "metadata": {},
   "outputs": [],
   "source": [
    "vectorizer = CountVectorizer()\n",
    "bow_train = vectorizer.fit_transform(df_train[\"text_tokenized\"])\n",
    "bow_test = vectorizer.transform(df_test[\"review_text\"])"
   ]
  },
  {
   "cell_type": "code",
   "execution_count": 19,
   "id": "e6a1c7ac",
   "metadata": {
    "scrolled": true
   },
   "outputs": [
    {
     "name": "stderr",
     "output_type": "stream",
     "text": [
      "C:\\Users\\Vincent\\AppData\\Local\\Programs\\Python\\Python39\\lib\\site-packages\\sklearn\\linear_model\\_logistic.py:763: ConvergenceWarning: lbfgs failed to converge (status=1):\n",
      "STOP: TOTAL NO. of ITERATIONS REACHED LIMIT.\n",
      "\n",
      "Increase the number of iterations (max_iter) or scale the data as shown in:\n",
      "    https://scikit-learn.org/stable/modules/preprocessing.html\n",
      "Please also refer to the documentation for alternative solver options:\n",
      "    https://scikit-learn.org/stable/modules/linear_model.html#logistic-regression\n",
      "  n_iter_i = _check_optimize_result(\n"
     ]
    },
    {
     "data": {
      "text/plain": [
       "LogisticRegression()"
      ]
     },
     "execution_count": 19,
     "metadata": {},
     "output_type": "execute_result"
    }
   ],
   "source": [
    "logistic_model = LogisticRegression()\n",
    "logistic_model.fit(bow_train, df_train[\"is_spoiler\"])"
   ]
  },
  {
   "cell_type": "code",
   "execution_count": 20,
   "id": "38e5d04f",
   "metadata": {},
   "outputs": [
    {
     "data": {
      "text/plain": [
       "0.6156562200629533"
      ]
     },
     "execution_count": 20,
     "metadata": {},
     "output_type": "execute_result"
    }
   ],
   "source": [
    "logistic_model.score(bow_test, df_test[\"is_spoiler\"])"
   ]
  },
  {
   "cell_type": "code",
   "execution_count": 21,
   "id": "ecc7275a",
   "metadata": {},
   "outputs": [
    {
     "data": {
      "text/plain": [
       "<sklearn.metrics._plot.confusion_matrix.ConfusionMatrixDisplay at 0x207019a3130>"
      ]
     },
     "execution_count": 21,
     "metadata": {},
     "output_type": "execute_result"
    },
    {
     "data": {
      "image/png": "[encoded data removed]",
      "text/plain": [
       "<Figure size 432x288 with 2 Axes>"
      ]
     },
     "metadata": {
      "needs_background": "light"
     },
     "output_type": "display_data"
    }
   ],
   "source": [
    "from sklearn.metrics import confusion_matrix, ConfusionMatrixDisplay\n",
    "ConfusionMatrixDisplay(confusion_matrix(df_test[\"is_spoiler\"], logistic_model.predict(bow_test))).plot()"
   ]
  },
  {
   "cell_type": "code",
   "execution_count": 22,
   "id": "2a314752",
   "metadata": {},
   "outputs": [
    {
     "name": "stdout",
     "output_type": "stream",
     "text": [
      "              precision    recall  f1-score   support\n",
      "\n",
      "       False       0.54      0.70      0.61     15700\n",
      "        True       0.71      0.55      0.62     20835\n",
      "\n",
      "    accuracy                           0.62     36535\n",
      "   macro avg       0.63      0.63      0.62     36535\n",
      "weighted avg       0.64      0.62      0.62     36535\n",
      "\n"
     ]
    }
   ],
   "source": [
    "recall_score(df_test[\"is_spoiler\"], logistic_model.predict(bow_test))\n",
    "print(classification_report(df_test[\"is_spoiler\"], logistic_model.predict(bow_test)))"
   ]
  },
  {
   "cell_type": "code",
   "execution_count": 91,
   "id": "13ad32ea",
   "metadata": {},
   "outputs": [
    {
     "name": "stderr",
     "output_type": "stream",
     "text": [
      "C:\\Users\\Vincent\\AppData\\Local\\Programs\\Python\\Python39\\lib\\site-packages\\sklearn\\svm\\_base.py:255: ConvergenceWarning: Solver terminated early (max_iter=10000).  Consider pre-processing your data with StandardScaler or MinMaxScaler.\n",
      "  warnings.warn('Solver terminated early (max_iter=%i).'\n"
     ]
    },
    {
     "data": {
      "text/plain": [
       "SVC(max_iter=10000.0)"
      ]
     },
     "execution_count": 91,
     "metadata": {},
     "output_type": "execute_result"
    }
   ],
   "source": [
    "from sklearn import svm\n",
    "clf = svm.SVC(kernel = 'rbf', max_iter = 1e4)\n",
    "clf.fit(bow_train, df_train[\"is_spoiler\"])"
   ]
  },
  {
   "cell_type": "code",
   "execution_count": 92,
   "id": "35ef49e9",
   "metadata": {},
   "outputs": [
    {
     "data": {
      "text/plain": [
       "0.4013957799465678"
      ]
     },
     "execution_count": 92,
     "metadata": {},
     "output_type": "execute_result"
    }
   ],
   "source": [
    "clf.score(bow_test, df_test[\"is_spoiler\"])"
   ]
  },
  {
   "cell_type": "code",
   "execution_count": 29,
   "id": "1a7f68ea",
   "metadata": {
    "scrolled": true
   },
   "outputs": [
    {
     "data": {
      "text/plain": [
       "<265312x201466 sparse matrix of type '<class 'numpy.int64'>'\n",
       "\twith 31192685 stored elements in Compressed Sparse Row format>"
      ]
     },
     "execution_count": 29,
     "metadata": {},
     "output_type": "execute_result"
    }
   ],
   "source": [
    "bow_train"
   ]
  },
  {
   "cell_type": "code",
   "execution_count": 24,
   "id": "0950b354",
   "metadata": {},
   "outputs": [],
   "source": [
    "import tensorflow as tf"
   ]
  },
  {
   "cell_type": "code",
   "execution_count": 39,
   "id": "a091507f",
   "metadata": {},
   "outputs": [],
   "source": [
    "model = tf.keras.models.Sequential([tf.keras.layers.InputLayer(input_shape = (bow_train.shape[1],), sparse = True),\n",
    "                                    tf.keras.layers.Dense(128, activation='relu'),\n",
    "                                    tf.keras.layers.Dense(1, activation='sigmoid')])"
   ]
  },
  {
   "cell_type": "code",
   "execution_count": 40,
   "id": "9d1ba597",
   "metadata": {},
   "outputs": [],
   "source": [
    "model.compile(loss=tf.keras.losses.BinaryCrossentropy(),\n",
    "             optimizer='adam',\n",
    "             metrics=['accuracy'])"
   ]
  },
  {
   "cell_type": "code",
   "execution_count": 38,
   "id": "8f2695b4",
   "metadata": {},
   "outputs": [],
   "source": [
    "coo = bow_train.tocoo()\n",
    "indices = np.mat([coo.row, coo.col]).transpose()\n",
    "sparse_train = tf.SparseTensor(indices, coo.data, coo.shape)\n",
    "\n",
    "coo = bow_test.tocoo()\n",
    "indices = np.mat([coo.row, coo.col]).transpose()\n",
    "sparse_test = tf.SparseTensor(indices, coo.data, coo.shape)"
   ]
  },
  {
   "cell_type": "code",
   "execution_count": 51,
   "id": "10455aac",
   "metadata": {},
   "outputs": [
    {
     "name": "stdout",
     "output_type": "stream",
     "text": [
      "8291/8291 [==============================] - 2155s 260ms/step - loss: 0.5723 - accuracy: 0.7003 - val_loss: 0.6215 - val_accuracy: 0.6575\n"
     ]
    },
    {
     "data": {
      "text/plain": [
       "<keras.src.callbacks.History at 0x206fa5ad610>"
      ]
     },
     "execution_count": 51,
     "metadata": {},
     "output_type": "execute_result"
    }
   ],
   "source": [
    "model.fit(sparse_train, df_train[\"is_spoiler\"].to_numpy(), validation_data = (sparse_test, df_test[\"is_spoiler\"].to_numpy()), epochs = 1)"
   ]
  },
  {
   "cell_type": "code",
   "execution_count": 58,
   "id": "5e5fad50",
   "metadata": {
    "scrolled": true
   },
   "outputs": [
    {
     "data": {
      "text/plain": [
       "0.7784231305122375"
      ]
     },
     "execution_count": 58,
     "metadata": {},
     "output_type": "execute_result"
    }
   ],
   "source": [
    "loss, accuracy = model.evaluate(sparse_train, df_train[\"is_spoiler\"].to_numpy(), verbose = False)\n",
    "accuracy"
   ]
  },
  {
   "cell_type": "code",
   "execution_count": 60,
   "id": "8d9ef9a0",
   "metadata": {},
   "outputs": [
    {
     "data": {
      "text/plain": [
       "[0.6215207576751709, 0.6575338840484619]"
      ]
     },
     "execution_count": 60,
     "metadata": {},
     "output_type": "execute_result"
    }
   ],
   "source": [
    "model.evaluate(sparse_test, df_test[\"is_spoiler\"].to_numpy(), verbose = False)"
   ]
  },
  {
   "cell_type": "code",
   "execution_count": 65,
   "id": "24a1ba73",
   "metadata": {},
   "outputs": [],
   "source": [
    "y_pred = model.predict(sparse_test, verbose = False) > 0.5\n",
    "y_pred = y_pred.astype('int')"
   ]
  },
  {
   "cell_type": "code",
   "execution_count": 67,
   "id": "1177c799",
   "metadata": {},
   "outputs": [
    {
     "name": "stdout",
     "output_type": "stream",
     "text": [
      "              precision    recall  f1-score   support\n",
      "\n",
      "       False       0.60      0.60      0.60     15700\n",
      "        True       0.70      0.70      0.70     20835\n",
      "\n",
      "    accuracy                           0.66     36535\n",
      "   macro avg       0.65      0.65      0.65     36535\n",
      "weighted avg       0.66      0.66      0.66     36535\n",
      "\n"
     ]
    }
   ],
   "source": [
    "print(classification_report(df_test[\"is_spoiler\"], y_pred))"
   ]
  },
  {
   "cell_type": "code",
   "execution_count": null,
   "id": "136ed366",
   "metadata": {},
   "outputs": [],
   "source": []
  }
 ],
 "metadata": {
  "kernelspec": {
   "display_name": "Python 3",
   "language": "python",
   "name": "python3"
  },
  "language_info": {
   "codemirror_mode": {
    "name": "ipython",
    "version": 3
   },
   "file_extension": ".py",
   "mimetype": "text/x-python",
   "name": "python",
   "nbconvert_exporter": "python",
   "pygments_lexer": "ipython3",
   "version": "3.9.5"
  }
 },
 "nbformat": 4,
 "nbformat_minor": 5
}
