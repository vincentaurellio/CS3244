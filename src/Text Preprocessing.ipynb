{
 "cells": [
  {
   "cell_type": "code",
   "execution_count": 2,
   "id": "77d36cab",
   "metadata": {},
   "outputs": [],
   "source": [
    "import numpy as np\n",
    "import pandas as pd\n",
    "import nltk\n",
    "from nltk.tokenize import word_tokenize\n",
    "from nltk.corpus import stopwords\n",
    "from sklearn.model_selection import train_test_split"
   ]
  },
  {
   "cell_type": "markdown",
   "id": "5043cc78",
   "metadata": {},
   "source": [
    "### Load the dataset"
   ]
  },
  {
   "cell_type": "code",
   "execution_count": 3,
   "id": "1b37ecab-b186-4d34-adef-e557f3715cea",
   "metadata": {},
   "outputs": [],
   "source": [
    "# load movie details file\n",
    "df_movie_details = pd.read_json(\"../data/IMDB_movie_details.json\", lines = True)"
   ]
  },
  {
   "cell_type": "code",
   "execution_count": 5,
   "id": "ad9ceae3",
   "metadata": {},
   "outputs": [],
   "source": [
    "# UNCOMMENT THESE LINES OF CODE TO TOKENIZE IF NEEDED (WILL TAKE ~15 MINUTES)\n",
    "\n",
    "# df_reviews = pd.read_json(\"../data/IMDB_reviews.json\", lines = True)\n",
    "# df_reviews['tokenized_summary'] = list(map(word_tokenize, df_reviews['review_summary']))\n",
    "# df_reviews.to_csv(\"../data/tokenized_summary.csv\")\n",
    "\n",
    "# load the tokenized reviews file\n",
    "df_reviews = pd.read_csv(\"../data/tokenized_reviews.csv\")"
   ]
  },
  {
   "cell_type": "code",
   "execution_count": 6,
   "id": "d1af8bf5",
   "metadata": {},
   "outputs": [
    {
     "data": {
      "text/plain": [
       "0         ['A', 'classic', 'piece', 'of', 'unforgettable...\n",
       "1         ['Simply', 'amazing', '.', 'The', 'best', 'fil...\n",
       "2         ['The', 'best', 'story', 'ever', 'told', 'on',...\n",
       "3            ['Busy', 'dying', 'or', 'busy', 'living', '?']\n",
       "4         ['Great', 'story', ',', 'wondrously', 'told', ...\n",
       "                                ...                        \n",
       "573908    ['The', 'best', 'teen', 'movie', 'of', 'the', ...\n",
       "573909                   ['Go', '-', 'see', 'the', 'movie']\n",
       "573910    ['It', \"'s\", 'the', 'best', 'movie', 'I', \"'ve...\n",
       "573911    ['Have', \"n't\", 'we', 'seen', 'this', 'before'...\n",
       "573912              ['Go', 'does', \"n't\", 'go', 'anywhere']\n",
       "Name: tokenized_summary, Length: 573913, dtype: object"
      ]
     },
     "execution_count": 6,
     "metadata": {},
     "output_type": "execute_result"
    }
   ],
   "source": [
    "df_reviews['tokenized_summary']"
   ]
  },
  {
   "cell_type": "code",
   "execution_count": 7,
   "id": "eceefc5d",
   "metadata": {
    "scrolled": true
   },
   "outputs": [
    {
     "data": {
      "text/plain": [
       "0         ['In', 'its', 'Oscar', 'year', ',', 'Shawshank...\n",
       "1         ['The', 'Shawshank', 'Redemption', 'is', 'with...\n",
       "2         ['I', 'believe', 'that', 'this', 'film', 'is',...\n",
       "3         ['*', '*', 'Yes', ',', 'there', 'are', 'SPOILE...\n",
       "4         ['At', 'the', 'heart', 'of', 'this', 'extraord...\n",
       "                                ...                        \n",
       "573908    ['Go', 'is', 'wise', ',', 'fast', 'and', 'pure...\n",
       "573909    ['Well', ',', 'what', 'shall', 'I', 'say', '.'...\n",
       "573910    ['Go', 'is', 'the', 'best', 'movie', 'I', 'hav...\n",
       "573911    ['Call', 'this', '1999', 'teenage', 'version',...\n",
       "573912    ['Why', 'was', 'this', 'movie', 'made', '?', '...\n",
       "Name: tokenized_reviews, Length: 573913, dtype: object"
      ]
     },
     "execution_count": 7,
     "metadata": {},
     "output_type": "execute_result"
    }
   ],
   "source": [
    "df_reviews['tokenized_reviews']"
   ]
  },
  {
   "cell_type": "markdown",
   "id": "f7712e14",
   "metadata": {},
   "source": [
    "### Removing stop words from the list"
   ]
  },
  {
   "cell_type": "code",
   "execution_count": 46,
   "id": "e85064f3",
   "metadata": {},
   "outputs": [],
   "source": [
    "# get stop words\n",
    "stop_words = set(stopwords.words('english'))"
   ]
  },
  {
   "cell_type": "code",
   "execution_count": null,
   "id": "9701583d",
   "metadata": {},
   "outputs": [],
   "source": []
  }
 ],
 "metadata": {
  "kernelspec": {
   "display_name": "Python 3",
   "language": "python",
   "name": "python3"
  },
  "language_info": {
   "codemirror_mode": {
    "name": "ipython",
    "version": 3
   },
   "file_extension": ".py",
   "mimetype": "text/x-python",
   "name": "python",
   "nbconvert_exporter": "python",
   "pygments_lexer": "ipython3",
   "version": "3.9.5"
  }
 },
 "nbformat": 4,
 "nbformat_minor": 5
}
