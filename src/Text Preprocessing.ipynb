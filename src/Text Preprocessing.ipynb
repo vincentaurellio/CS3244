{
 "cells": [
  {
   "cell_type": "code",
   "execution_count": 38,
   "id": "77d36cab",
   "metadata": {},
   "outputs": [
    {
     "name": "stderr",
     "output_type": "stream",
     "text": [
      "[nltk_data] Downloading package stopwords to\n",
      "[nltk_data]     C:\\Users\\Vincent\\AppData\\Roaming\\nltk_data...\n",
      "[nltk_data]   Unzipping corpora\\stopwords.zip.\n"
     ]
    }
   ],
   "source": [
    "import numpy as np\n",
    "import pandas as pd\n",
    "import nltk\n",
    "from nltk.tokenize import word_tokenize\n",
    "from nltk.corpus import stopwords\n",
    "from sklearn.model_selection import train_test_split"
   ]
  },
  {
   "cell_type": "code",
   "execution_count": 10,
   "id": "f044a9e0",
   "metadata": {},
   "outputs": [],
   "source": [
    "df_reviews = pd.read_json(\"../data/IMDB_reviews.json\", lines = True)"
   ]
  },
  {
   "cell_type": "code",
   "execution_count": 11,
   "id": "1b37ecab-b186-4d34-adef-e557f3715cea",
   "metadata": {},
   "outputs": [],
   "source": [
    "df_movie_details = pd.read_json(\"../data/IMDB_movie_details.json\", lines = True)"
   ]
  },
  {
   "cell_type": "code",
   "execution_count": 12,
   "id": "f6130f29",
   "metadata": {},
   "outputs": [
    {
     "data": {
      "text/html": [
       "<div>\n",
       "<style scoped>\n",
       "    .dataframe tbody tr th:only-of-type {\n",
       "        vertical-align: middle;\n",
       "    }\n",
       "\n",
       "    .dataframe tbody tr th {\n",
       "        vertical-align: top;\n",
       "    }\n",
       "\n",
       "    .dataframe thead th {\n",
       "        text-align: right;\n",
       "    }\n",
       "</style>\n",
       "<table border=\"1\" class=\"dataframe\">\n",
       "  <thead>\n",
       "    <tr style=\"text-align: right;\">\n",
       "      <th></th>\n",
       "      <th>review_date</th>\n",
       "      <th>movie_id</th>\n",
       "      <th>user_id</th>\n",
       "      <th>is_spoiler</th>\n",
       "      <th>review_text</th>\n",
       "      <th>rating</th>\n",
       "      <th>review_summary</th>\n",
       "    </tr>\n",
       "  </thead>\n",
       "  <tbody>\n",
       "    <tr>\n",
       "      <th>0</th>\n",
       "      <td>10 February 2006</td>\n",
       "      <td>tt0111161</td>\n",
       "      <td>ur1898687</td>\n",
       "      <td>True</td>\n",
       "      <td>In its Oscar year, Shawshank Redemption (writt...</td>\n",
       "      <td>10</td>\n",
       "      <td>A classic piece of unforgettable film-making.</td>\n",
       "    </tr>\n",
       "    <tr>\n",
       "      <th>1</th>\n",
       "      <td>6 September 2000</td>\n",
       "      <td>tt0111161</td>\n",
       "      <td>ur0842118</td>\n",
       "      <td>True</td>\n",
       "      <td>The Shawshank Redemption is without a doubt on...</td>\n",
       "      <td>10</td>\n",
       "      <td>Simply amazing. The best film of the 90's.</td>\n",
       "    </tr>\n",
       "    <tr>\n",
       "      <th>2</th>\n",
       "      <td>3 August 2001</td>\n",
       "      <td>tt0111161</td>\n",
       "      <td>ur1285640</td>\n",
       "      <td>True</td>\n",
       "      <td>I believe that this film is the best story eve...</td>\n",
       "      <td>8</td>\n",
       "      <td>The best story ever told on film</td>\n",
       "    </tr>\n",
       "    <tr>\n",
       "      <th>3</th>\n",
       "      <td>1 September 2002</td>\n",
       "      <td>tt0111161</td>\n",
       "      <td>ur1003471</td>\n",
       "      <td>True</td>\n",
       "      <td>**Yes, there are SPOILERS here**This film has ...</td>\n",
       "      <td>10</td>\n",
       "      <td>Busy dying or busy living?</td>\n",
       "    </tr>\n",
       "    <tr>\n",
       "      <th>4</th>\n",
       "      <td>20 May 2004</td>\n",
       "      <td>tt0111161</td>\n",
       "      <td>ur0226855</td>\n",
       "      <td>True</td>\n",
       "      <td>At the heart of this extraordinary movie is a ...</td>\n",
       "      <td>8</td>\n",
       "      <td>Great story, wondrously told and acted</td>\n",
       "    </tr>\n",
       "  </tbody>\n",
       "</table>\n",
       "</div>"
      ],
      "text/plain": [
       "        review_date   movie_id    user_id  is_spoiler  \\\n",
       "0  10 February 2006  tt0111161  ur1898687        True   \n",
       "1  6 September 2000  tt0111161  ur0842118        True   \n",
       "2     3 August 2001  tt0111161  ur1285640        True   \n",
       "3  1 September 2002  tt0111161  ur1003471        True   \n",
       "4       20 May 2004  tt0111161  ur0226855        True   \n",
       "\n",
       "                                         review_text  rating  \\\n",
       "0  In its Oscar year, Shawshank Redemption (writt...      10   \n",
       "1  The Shawshank Redemption is without a doubt on...      10   \n",
       "2  I believe that this film is the best story eve...       8   \n",
       "3  **Yes, there are SPOILERS here**This film has ...      10   \n",
       "4  At the heart of this extraordinary movie is a ...       8   \n",
       "\n",
       "                                  review_summary  \n",
       "0  A classic piece of unforgettable film-making.  \n",
       "1     Simply amazing. The best film of the 90's.  \n",
       "2               The best story ever told on film  \n",
       "3                     Busy dying or busy living?  \n",
       "4         Great story, wondrously told and acted  "
      ]
     },
     "execution_count": 12,
     "metadata": {},
     "output_type": "execute_result"
    }
   ],
   "source": [
    "df_reviews.head()"
   ]
  },
  {
   "cell_type": "code",
   "execution_count": 22,
   "id": "ad9ceae3",
   "metadata": {},
   "outputs": [],
   "source": [
    "df_reviews['tokenized_summary'] = list(map(word_tokenize, df_reviews['review_summary']))"
   ]
  },
  {
   "cell_type": "code",
   "execution_count": 23,
   "id": "d1af8bf5",
   "metadata": {},
   "outputs": [
    {
     "data": {
      "text/plain": [
       "0         [A, classic, piece, of, unforgettable, film-ma...\n",
       "1         [Simply, amazing, ., The, best, film, of, the,...\n",
       "2                  [The, best, story, ever, told, on, film]\n",
       "3                        [Busy, dying, or, busy, living, ?]\n",
       "4           [Great, story, ,, wondrously, told, and, acted]\n",
       "                                ...                        \n",
       "573908          [The, best, teen, movie, of, the, nineties]\n",
       "573909                             [Go, -, see, the, movie]\n",
       "573910       [It, 's, the, best, movie, I, 've, ever, seen]\n",
       "573911               [Have, n't, we, seen, this, before, ?]\n",
       "573912                        [Go, does, n't, go, anywhere]\n",
       "Name: tokenized_summary, Length: 573913, dtype: object"
      ]
     },
     "execution_count": 23,
     "metadata": {},
     "output_type": "execute_result"
    }
   ],
   "source": [
    "df_reviews['tokenized_summary']"
   ]
  },
  {
   "cell_type": "code",
   "execution_count": 24,
   "id": "c1fa1425",
   "metadata": {},
   "outputs": [],
   "source": [
    "df_reviews['tokenized_reviews'] = list(map(word_tokenize, df_reviews['review_text']))"
   ]
  },
  {
   "cell_type": "code",
   "execution_count": 27,
   "id": "eceefc5d",
   "metadata": {},
   "outputs": [
    {
     "data": {
      "text/plain": [
       "0    [In, its, Oscar, year, ,, Shawshank, Redemptio...\n",
       "1    [The, Shawshank, Redemption, is, without, a, d...\n",
       "2    [I, believe, that, this, film, is, the, best, ...\n",
       "3    [*, *, Yes, ,, there, are, SPOILERS, here, *, ...\n",
       "4    [At, the, heart, of, this, extraordinary, movi...\n",
       "Name: tokenized_reviews, dtype: object"
      ]
     },
     "execution_count": 27,
     "metadata": {},
     "output_type": "execute_result"
    }
   ],
   "source": [
    "df_reviews['tokenized_reviews'].head()"
   ]
  },
  {
   "cell_type": "code",
   "execution_count": 46,
   "id": "e85064f3",
   "metadata": {},
   "outputs": [],
   "source": [
    "stop_words = set(stopwords.words('english'))"
   ]
  },
  {
   "cell_type": "code",
   "execution_count": null,
   "id": "9701583d",
   "metadata": {},
   "outputs": [],
   "source": [
    "for lst in df_reviews['tokenized_review']"
   ]
  }
 ],
 "metadata": {
  "kernelspec": {
   "display_name": "Python 3",
   "language": "python",
   "name": "python3"
  },
  "language_info": {
   "codemirror_mode": {
    "name": "ipython",
    "version": 3
   },
   "file_extension": ".py",
   "mimetype": "text/x-python",
   "name": "python",
   "nbconvert_exporter": "python",
   "pygments_lexer": "ipython3",
   "version": "3.9.5"
  }
 },
 "nbformat": 4,
 "nbformat_minor": 5
}
