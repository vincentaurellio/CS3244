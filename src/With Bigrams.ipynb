{
 "cells": [
  {
   "cell_type": "code",
   "execution_count": 1,
   "metadata": {
    "colab": {
     "base_uri": "https://localhost:8080/"
    },
    "id": "n51KqlPv6FgA",
    "outputId": "1638954c-74ed-4718-8b28-4409232d799b"
   },
   "outputs": [],
   "source": [
    "#Mount drive\n",
    "#from google.colab import drive\n",
    "#drive.mount('/content/drive')"
   ]
  },
  {
   "cell_type": "code",
   "execution_count": 2,
   "metadata": {
    "colab": {
     "base_uri": "https://localhost:8080/"
    },
    "id": "kdPtrjtL973h",
    "outputId": "42bd46db-2573-440b-a509-79deda2e9598"
   },
   "outputs": [],
   "source": [
    "#Move to dataset folder\n",
    "#%cd /content/drive/MyDrive/Colab Notebooks/CS3244/Datasets/"
   ]
  },
  {
   "cell_type": "code",
   "execution_count": 3,
   "metadata": {
    "colab": {
     "base_uri": "https://localhost:8080/"
    },
    "id": "4wy5gWM8-7rg",
    "outputId": "1f2a376d-a69a-4b99-c977-49b8e8973c98"
   },
   "outputs": [
    {
     "name": "stderr",
     "output_type": "stream",
     "text": [
      "[nltk_data] Downloading package stopwords to\n",
      "[nltk_data]     C:\\Users\\lakbo\\AppData\\Roaming\\nltk_data...\n",
      "[nltk_data]   Package stopwords is already up-to-date!\n",
      "[nltk_data] Downloading package punkt to\n",
      "[nltk_data]     C:\\Users\\lakbo\\AppData\\Roaming\\nltk_data...\n",
      "[nltk_data]   Package punkt is already up-to-date!\n"
     ]
    },
    {
     "data": {
      "text/plain": [
       "True"
      ]
     },
     "execution_count": 3,
     "metadata": {},
     "output_type": "execute_result"
    }
   ],
   "source": [
    "import pandas as pd\n",
    "import tensorflow as tf\n",
    "import nltk\n",
    "from nltk.corpus import stopwords\n",
    "from nltk.tokenize import word_tokenize\n",
    "from nltk import bigrams\n",
    "from sklearn.feature_extraction.text import CountVectorizer\n",
    "from sklearn.model_selection import train_test_split\n",
    "from sklearn.linear_model import LogisticRegression\n",
    "nltk.download('stopwords')\n",
    "nltk.download('punkt')"
   ]
  },
  {
   "cell_type": "code",
   "execution_count": 4,
   "metadata": {
    "id": "plmWvbOd_451"
   },
   "outputs": [],
   "source": [
    "movie_details = pd.read_json('../Project/data/IMDB_movie_details.json', lines = True)\n",
    "imdb_reviews = pd.read_json('../Project/data/IMDB_reviews.json', lines = True)"
   ]
  },
  {
   "cell_type": "code",
   "execution_count": 5,
   "metadata": {
    "colab": {
     "base_uri": "https://localhost:8080/",
     "height": 345
    },
    "id": "b7RH9EoMTxOY",
    "outputId": "9e4ce1c7-09f1-40eb-aef2-63469a6ef1e9"
   },
   "outputs": [
    {
     "data": {
      "text/plain": [
       "Index(['movie_id', 'plot_summary', 'duration', 'genre', 'rating',\n",
       "       'release_date', 'plot_synopsis'],\n",
       "      dtype='object')"
      ]
     },
     "execution_count": 5,
     "metadata": {},
     "output_type": "execute_result"
    }
   ],
   "source": [
    "headers = movie_details.columns\n",
    "headers"
   ]
  },
  {
   "cell_type": "code",
   "execution_count": 6,
   "metadata": {},
   "outputs": [
    {
     "data": {
      "text/html": [
       "<div>\n",
       "<style scoped>\n",
       "    .dataframe tbody tr th:only-of-type {\n",
       "        vertical-align: middle;\n",
       "    }\n",
       "\n",
       "    .dataframe tbody tr th {\n",
       "        vertical-align: top;\n",
       "    }\n",
       "\n",
       "    .dataframe thead th {\n",
       "        text-align: right;\n",
       "    }\n",
       "</style>\n",
       "<table border=\"1\" class=\"dataframe\">\n",
       "  <thead>\n",
       "    <tr style=\"text-align: right;\">\n",
       "      <th></th>\n",
       "      <th>movie_id</th>\n",
       "      <th>plot_summary</th>\n",
       "      <th>duration</th>\n",
       "      <th>genre</th>\n",
       "      <th>rating</th>\n",
       "      <th>release_date</th>\n",
       "      <th>plot_synopsis</th>\n",
       "    </tr>\n",
       "  </thead>\n",
       "  <tbody>\n",
       "  </tbody>\n",
       "</table>\n",
       "</div>"
      ],
      "text/plain": [
       "Empty DataFrame\n",
       "Columns: [movie_id, plot_summary, duration, genre, rating, release_date, plot_synopsis]\n",
       "Index: []"
      ]
     },
     "execution_count": 6,
     "metadata": {},
     "output_type": "execute_result"
    }
   ],
   "source": [
    "no_summary = movie_details[movie_details['plot_summary'].isna()]\n",
    "no_summary"
   ]
  },
  {
   "cell_type": "code",
   "execution_count": 7,
   "metadata": {},
   "outputs": [
    {
     "data": {
      "text/html": [
       "<div>\n",
       "<style scoped>\n",
       "    .dataframe tbody tr th:only-of-type {\n",
       "        vertical-align: middle;\n",
       "    }\n",
       "\n",
       "    .dataframe tbody tr th {\n",
       "        vertical-align: top;\n",
       "    }\n",
       "\n",
       "    .dataframe thead th {\n",
       "        text-align: right;\n",
       "    }\n",
       "</style>\n",
       "<table border=\"1\" class=\"dataframe\">\n",
       "  <thead>\n",
       "    <tr style=\"text-align: right;\">\n",
       "      <th></th>\n",
       "      <th>movie_id</th>\n",
       "      <th>plot_summary</th>\n",
       "      <th>duration</th>\n",
       "      <th>genre</th>\n",
       "      <th>rating</th>\n",
       "      <th>release_date</th>\n",
       "      <th>plot_synopsis</th>\n",
       "    </tr>\n",
       "  </thead>\n",
       "  <tbody>\n",
       "  </tbody>\n",
       "</table>\n",
       "</div>"
      ],
      "text/plain": [
       "Empty DataFrame\n",
       "Columns: [movie_id, plot_summary, duration, genre, rating, release_date, plot_synopsis]\n",
       "Index: []"
      ]
     },
     "execution_count": 7,
     "metadata": {},
     "output_type": "execute_result"
    }
   ],
   "source": [
    "no_synopsis = movie_details[movie_details['plot_synopsis'].isna()]\n",
    "no_synopsis"
   ]
  },
  {
   "cell_type": "code",
   "execution_count": 8,
   "metadata": {
    "colab": {
     "base_uri": "https://localhost:8080/",
     "height": 327
    },
    "id": "hJAtZxYXBIT9",
    "outputId": "b2d4b2f0-96c5-4753-ff3a-eea46ab972b0"
   },
   "outputs": [
    {
     "data": {
      "text/html": [
       "<div>\n",
       "<style scoped>\n",
       "    .dataframe tbody tr th:only-of-type {\n",
       "        vertical-align: middle;\n",
       "    }\n",
       "\n",
       "    .dataframe tbody tr th {\n",
       "        vertical-align: top;\n",
       "    }\n",
       "\n",
       "    .dataframe thead th {\n",
       "        text-align: right;\n",
       "    }\n",
       "</style>\n",
       "<table border=\"1\" class=\"dataframe\">\n",
       "  <thead>\n",
       "    <tr style=\"text-align: right;\">\n",
       "      <th></th>\n",
       "      <th>review_date</th>\n",
       "      <th>movie_id</th>\n",
       "      <th>user_id</th>\n",
       "      <th>is_spoiler</th>\n",
       "      <th>review_text</th>\n",
       "      <th>rating</th>\n",
       "      <th>review_summary</th>\n",
       "    </tr>\n",
       "  </thead>\n",
       "  <tbody>\n",
       "    <tr>\n",
       "      <th>0</th>\n",
       "      <td>10 February 2006</td>\n",
       "      <td>tt0111161</td>\n",
       "      <td>ur1898687</td>\n",
       "      <td>True</td>\n",
       "      <td>In its Oscar year, Shawshank Redemption (writt...</td>\n",
       "      <td>10</td>\n",
       "      <td>A classic piece of unforgettable film-making.</td>\n",
       "    </tr>\n",
       "    <tr>\n",
       "      <th>1</th>\n",
       "      <td>6 September 2000</td>\n",
       "      <td>tt0111161</td>\n",
       "      <td>ur0842118</td>\n",
       "      <td>True</td>\n",
       "      <td>The Shawshank Redemption is without a doubt on...</td>\n",
       "      <td>10</td>\n",
       "      <td>Simply amazing. The best film of the 90's.</td>\n",
       "    </tr>\n",
       "    <tr>\n",
       "      <th>2</th>\n",
       "      <td>3 August 2001</td>\n",
       "      <td>tt0111161</td>\n",
       "      <td>ur1285640</td>\n",
       "      <td>True</td>\n",
       "      <td>I believe that this film is the best story eve...</td>\n",
       "      <td>8</td>\n",
       "      <td>The best story ever told on film</td>\n",
       "    </tr>\n",
       "    <tr>\n",
       "      <th>3</th>\n",
       "      <td>1 September 2002</td>\n",
       "      <td>tt0111161</td>\n",
       "      <td>ur1003471</td>\n",
       "      <td>True</td>\n",
       "      <td>**Yes, there are SPOILERS here**This film has ...</td>\n",
       "      <td>10</td>\n",
       "      <td>Busy dying or busy living?</td>\n",
       "    </tr>\n",
       "    <tr>\n",
       "      <th>4</th>\n",
       "      <td>20 May 2004</td>\n",
       "      <td>tt0111161</td>\n",
       "      <td>ur0226855</td>\n",
       "      <td>True</td>\n",
       "      <td>At the heart of this extraordinary movie is a ...</td>\n",
       "      <td>8</td>\n",
       "      <td>Great story, wondrously told and acted</td>\n",
       "    </tr>\n",
       "  </tbody>\n",
       "</table>\n",
       "</div>"
      ],
      "text/plain": [
       "        review_date   movie_id    user_id  is_spoiler  \\\n",
       "0  10 February 2006  tt0111161  ur1898687        True   \n",
       "1  6 September 2000  tt0111161  ur0842118        True   \n",
       "2     3 August 2001  tt0111161  ur1285640        True   \n",
       "3  1 September 2002  tt0111161  ur1003471        True   \n",
       "4       20 May 2004  tt0111161  ur0226855        True   \n",
       "\n",
       "                                         review_text  rating  \\\n",
       "0  In its Oscar year, Shawshank Redemption (writt...      10   \n",
       "1  The Shawshank Redemption is without a doubt on...      10   \n",
       "2  I believe that this film is the best story eve...       8   \n",
       "3  **Yes, there are SPOILERS here**This film has ...      10   \n",
       "4  At the heart of this extraordinary movie is a ...       8   \n",
       "\n",
       "                                  review_summary  \n",
       "0  A classic piece of unforgettable film-making.  \n",
       "1     Simply amazing. The best film of the 90's.  \n",
       "2               The best story ever told on film  \n",
       "3                     Busy dying or busy living?  \n",
       "4         Great story, wondrously told and acted  "
      ]
     },
     "execution_count": 8,
     "metadata": {},
     "output_type": "execute_result"
    }
   ],
   "source": [
    "imdb_reviews.head()"
   ]
  },
  {
   "cell_type": "code",
   "execution_count": 9,
   "metadata": {
    "colab": {
     "base_uri": "https://localhost:8080/"
    },
    "id": "ZcwA-8tyTbHk",
    "outputId": "be523867-ebad-4360-d1aa-6d4d5859bdb7"
   },
   "outputs": [
    {
     "data": {
      "text/plain": [
       "'150924 + 422989'"
      ]
     },
     "execution_count": 9,
     "metadata": {},
     "output_type": "execute_result"
    }
   ],
   "source": [
    "labels = imdb_reviews.is_spoiler\n",
    "labels = labels.value_counts()\n",
    "true_count = labels[True]\n",
    "false_count = labels[False]\n",
    "f'{true_count} + {false_count}'"
   ]
  },
  {
   "cell_type": "code",
   "execution_count": 10,
   "metadata": {},
   "outputs": [],
   "source": [
    "def lowercase(dataframe,columnname):\n",
    "    lowercase_dataframe = dataframe[columnname].apply(lambda x: x.lower())\n",
    "    return lowercase_dataframe\n",
    "\n",
    "def remove_special_characters(dataframe,columnname):\n",
    "    dataframe_no_special_characters = dataframe[columnname].replace(r'[^A-Za-z0-9 ]+', '', regex=True)\n",
    "    return dataframe_no_special_characters\n",
    "\n",
    "def tokenize_words(dataframe,columnname):\n",
    "    dataframe_tokenized_texts= dataframe[columnname].apply(lambda x: word_tokenize(x) )\n",
    "    return dataframe_tokenized_texts\n",
    "\n",
    "def remove_stop_words(dataframe,columnname):\n",
    "    stop = stopwords.words('english')\n",
    "    dataframe_no_stop_words= dataframe[columnname].apply(lambda x: [item for item in x if item not in stop])\n",
    "    return dataframe_no_stop_words\n"
   ]
  },
  {
   "cell_type": "code",
   "execution_count": 11,
   "metadata": {},
   "outputs": [
    {
     "data": {
      "text/plain": [
       "\"imdb_reviews = imdb_reviews.head()\\nimdb_reviews['review_text'] = lowercase(imdb_reviews,'review_text')\\nimdb_reviews['review_text'] = remove_special_characters(imdb_reviews,'review_text')\\nimdb_reviews['review_text'] = tokenize_words(imdb_reviews,'review_text')\\nimdb_reviews['review_text'] = remove_stop_words(imdb_reviews,'review_text')\\nimdb_reviews\""
      ]
     },
     "execution_count": 11,
     "metadata": {},
     "output_type": "execute_result"
    }
   ],
   "source": [
    "#Processing of data\n",
    "\"\"\"imdb_reviews = imdb_reviews.head()\n",
    "imdb_reviews['review_text'] = lowercase(imdb_reviews,'review_text')\n",
    "imdb_reviews['review_text'] = remove_special_characters(imdb_reviews,'review_text')\n",
    "imdb_reviews['review_text'] = tokenize_words(imdb_reviews,'review_text')\n",
    "imdb_reviews['review_text'] = remove_stop_words(imdb_reviews,'review_text')\n",
    "imdb_reviews\"\"\""
   ]
  },
  {
   "cell_type": "code",
   "execution_count": 12,
   "metadata": {
    "id": "lmRr0ApdViyK"
   },
   "outputs": [
    {
     "data": {
      "text/html": [
       "<div>\n",
       "<style scoped>\n",
       "    .dataframe tbody tr th:only-of-type {\n",
       "        vertical-align: middle;\n",
       "    }\n",
       "\n",
       "    .dataframe tbody tr th {\n",
       "        vertical-align: top;\n",
       "    }\n",
       "\n",
       "    .dataframe thead th {\n",
       "        text-align: right;\n",
       "    }\n",
       "</style>\n",
       "<table border=\"1\" class=\"dataframe\">\n",
       "  <thead>\n",
       "    <tr style=\"text-align: right;\">\n",
       "      <th></th>\n",
       "      <th>review_date</th>\n",
       "      <th>movie_id</th>\n",
       "      <th>user_id</th>\n",
       "      <th>is_spoiler</th>\n",
       "      <th>review_text</th>\n",
       "      <th>rating</th>\n",
       "      <th>review_summary</th>\n",
       "    </tr>\n",
       "  </thead>\n",
       "  <tbody>\n",
       "    <tr>\n",
       "      <th>0</th>\n",
       "      <td>10 February 2006</td>\n",
       "      <td>tt0111161</td>\n",
       "      <td>ur1898687</td>\n",
       "      <td>1</td>\n",
       "      <td>[oscar, year, shawshank, redemption, written, ...</td>\n",
       "      <td>10</td>\n",
       "      <td>A classic piece of unforgettable film-making.</td>\n",
       "    </tr>\n",
       "    <tr>\n",
       "      <th>1</th>\n",
       "      <td>6 September 2000</td>\n",
       "      <td>tt0111161</td>\n",
       "      <td>ur0842118</td>\n",
       "      <td>1</td>\n",
       "      <td>[shawshank, redemption, without, doubt, one, b...</td>\n",
       "      <td>10</td>\n",
       "      <td>Simply amazing. The best film of the 90's.</td>\n",
       "    </tr>\n",
       "    <tr>\n",
       "      <th>2</th>\n",
       "      <td>3 August 2001</td>\n",
       "      <td>tt0111161</td>\n",
       "      <td>ur1285640</td>\n",
       "      <td>1</td>\n",
       "      <td>[believe, film, best, story, ever, told, film,...</td>\n",
       "      <td>8</td>\n",
       "      <td>The best story ever told on film</td>\n",
       "    </tr>\n",
       "    <tr>\n",
       "      <th>3</th>\n",
       "      <td>1 September 2002</td>\n",
       "      <td>tt0111161</td>\n",
       "      <td>ur1003471</td>\n",
       "      <td>1</td>\n",
       "      <td>[yes, spoilers, herethis, film, emotional, imp...</td>\n",
       "      <td>10</td>\n",
       "      <td>Busy dying or busy living?</td>\n",
       "    </tr>\n",
       "    <tr>\n",
       "      <th>4</th>\n",
       "      <td>20 May 2004</td>\n",
       "      <td>tt0111161</td>\n",
       "      <td>ur0226855</td>\n",
       "      <td>1</td>\n",
       "      <td>[heart, extraordinary, movie, brilliant, indel...</td>\n",
       "      <td>8</td>\n",
       "      <td>Great story, wondrously told and acted</td>\n",
       "    </tr>\n",
       "  </tbody>\n",
       "</table>\n",
       "</div>"
      ],
      "text/plain": [
       "        review_date   movie_id    user_id  is_spoiler  \\\n",
       "0  10 February 2006  tt0111161  ur1898687           1   \n",
       "1  6 September 2000  tt0111161  ur0842118           1   \n",
       "2     3 August 2001  tt0111161  ur1285640           1   \n",
       "3  1 September 2002  tt0111161  ur1003471           1   \n",
       "4       20 May 2004  tt0111161  ur0226855           1   \n",
       "\n",
       "                                         review_text  rating  \\\n",
       "0  [oscar, year, shawshank, redemption, written, ...      10   \n",
       "1  [shawshank, redemption, without, doubt, one, b...      10   \n",
       "2  [believe, film, best, story, ever, told, film,...       8   \n",
       "3  [yes, spoilers, herethis, film, emotional, imp...      10   \n",
       "4  [heart, extraordinary, movie, brilliant, indel...       8   \n",
       "\n",
       "                                  review_summary  \n",
       "0  A classic piece of unforgettable film-making.  \n",
       "1     Simply amazing. The best film of the 90's.  \n",
       "2               The best story ever told on film  \n",
       "3                     Busy dying or busy living?  \n",
       "4         Great story, wondrously told and acted  "
      ]
     },
     "execution_count": 12,
     "metadata": {},
     "output_type": "execute_result"
    }
   ],
   "source": [
    "#Processing of data\n",
    "#change to lowercase\n",
    "imdb_reviews['review_text'] = lowercase(imdb_reviews,'review_text')\n",
    "#remove special characters\n",
    "imdb_reviews['review_text'] = remove_special_characters(imdb_reviews,'review_text')\n",
    "#tokenize text 15min\n",
    "imdb_reviews['review_text'] = tokenize_words(imdb_reviews,'review_text')\n",
    "#remove stop words 8min\n",
    "imdb_reviews['review_text'] = remove_stop_words(imdb_reviews,'review_text')\n",
    "imdb_reviews['is_spoiler'] = imdb_reviews['is_spoiler'].map({True: 1, False: 0})\n",
    "imdb_reviews.head()"
   ]
  },
  {
   "cell_type": "code",
   "execution_count": 13,
   "metadata": {
    "id": "lLgNq3H8Xbhu"
   },
   "outputs": [],
   "source": [
    "#ngrams\n",
    "imdb_reviews['bigrams'] = imdb_reviews['review_text'].apply(lambda x: list(bigrams(x)))"
   ]
  },
  {
   "cell_type": "code",
   "execution_count": 14,
   "metadata": {},
   "outputs": [
    {
     "data": {
      "text/plain": [
       "0         [(oscar, year), (year, shawshank), (shawshank,...\n",
       "1         [(shawshank, redemption), (redemption, without...\n",
       "2         [(believe, film), (film, best), (best, story),...\n",
       "3         [(yes, spoilers), (spoilers, herethis), (heret...\n",
       "4         [(heart, extraordinary), (extraordinary, movie...\n",
       "                                ...                        \n",
       "573908    [(go, wise), (wise, fast), (fast, pure), (pure...\n",
       "573909    [(well, shall), (shall, say), (say, ones), (on...\n",
       "573910    [(go, best), (best, movie), (movie, ever), (ev...\n",
       "573911    [(call, 1999), (1999, teenage), (teenage, vers...\n",
       "573912    [(movie, made), (made, doubt), (doubt, sucker)...\n",
       "Name: bigrams, Length: 573913, dtype: object"
      ]
     },
     "execution_count": 14,
     "metadata": {},
     "output_type": "execute_result"
    }
   ],
   "source": [
    "imdb_reviews['bigrams']"
   ]
  },
  {
   "cell_type": "code",
   "execution_count": 15,
   "metadata": {},
   "outputs": [],
   "source": [
    "imdb_reviews['bigram_text'] = imdb_reviews['bigrams'].apply(lambda x: ' '.join([' '.join(bigram) for bigram in x]))\n",
    "vectorizer = CountVectorizer()\n",
    "matrix = vectorizer.fit_transform(imdb_reviews['bigram_text'])"
   ]
  },
  {
   "cell_type": "code",
   "execution_count": 22,
   "metadata": {},
   "outputs": [
    {
     "data": {
      "text/html": [
       "<div>\n",
       "<style scoped>\n",
       "    .dataframe tbody tr th:only-of-type {\n",
       "        vertical-align: middle;\n",
       "    }\n",
       "\n",
       "    .dataframe tbody tr th {\n",
       "        vertical-align: top;\n",
       "    }\n",
       "\n",
       "    .dataframe thead th {\n",
       "        text-align: right;\n",
       "    }\n",
       "</style>\n",
       "<table border=\"1\" class=\"dataframe\">\n",
       "  <thead>\n",
       "    <tr style=\"text-align: right;\">\n",
       "      <th></th>\n",
       "      <th>review_date</th>\n",
       "      <th>movie_id</th>\n",
       "      <th>user_id</th>\n",
       "      <th>is_spoiler</th>\n",
       "      <th>review_text</th>\n",
       "      <th>rating</th>\n",
       "      <th>review_summary</th>\n",
       "      <th>bigrams</th>\n",
       "      <th>bigram_text</th>\n",
       "    </tr>\n",
       "  </thead>\n",
       "  <tbody>\n",
       "    <tr>\n",
       "      <th>0</th>\n",
       "      <td>10 February 2006</td>\n",
       "      <td>tt0111161</td>\n",
       "      <td>ur1898687</td>\n",
       "      <td>1</td>\n",
       "      <td>[oscar, year, shawshank, redemption, written, ...</td>\n",
       "      <td>10</td>\n",
       "      <td>A classic piece of unforgettable film-making.</td>\n",
       "      <td>[(oscar, year), (year, shawshank), (shawshank,...</td>\n",
       "      <td>oscar year year shawshank shawshank redemption...</td>\n",
       "    </tr>\n",
       "    <tr>\n",
       "      <th>1</th>\n",
       "      <td>6 September 2000</td>\n",
       "      <td>tt0111161</td>\n",
       "      <td>ur0842118</td>\n",
       "      <td>1</td>\n",
       "      <td>[shawshank, redemption, without, doubt, one, b...</td>\n",
       "      <td>10</td>\n",
       "      <td>Simply amazing. The best film of the 90's.</td>\n",
       "      <td>[(shawshank, redemption), (redemption, without...</td>\n",
       "      <td>shawshank redemption redemption without withou...</td>\n",
       "    </tr>\n",
       "    <tr>\n",
       "      <th>2</th>\n",
       "      <td>3 August 2001</td>\n",
       "      <td>tt0111161</td>\n",
       "      <td>ur1285640</td>\n",
       "      <td>1</td>\n",
       "      <td>[believe, film, best, story, ever, told, film,...</td>\n",
       "      <td>8</td>\n",
       "      <td>The best story ever told on film</td>\n",
       "      <td>[(believe, film), (film, best), (best, story),...</td>\n",
       "      <td>believe film film best best story story ever e...</td>\n",
       "    </tr>\n",
       "    <tr>\n",
       "      <th>3</th>\n",
       "      <td>1 September 2002</td>\n",
       "      <td>tt0111161</td>\n",
       "      <td>ur1003471</td>\n",
       "      <td>1</td>\n",
       "      <td>[yes, spoilers, herethis, film, emotional, imp...</td>\n",
       "      <td>10</td>\n",
       "      <td>Busy dying or busy living?</td>\n",
       "      <td>[(yes, spoilers), (spoilers, herethis), (heret...</td>\n",
       "      <td>yes spoilers spoilers herethis herethis film f...</td>\n",
       "    </tr>\n",
       "    <tr>\n",
       "      <th>4</th>\n",
       "      <td>20 May 2004</td>\n",
       "      <td>tt0111161</td>\n",
       "      <td>ur0226855</td>\n",
       "      <td>1</td>\n",
       "      <td>[heart, extraordinary, movie, brilliant, indel...</td>\n",
       "      <td>8</td>\n",
       "      <td>Great story, wondrously told and acted</td>\n",
       "      <td>[(heart, extraordinary), (extraordinary, movie...</td>\n",
       "      <td>heart extraordinary extraordinary movie movie ...</td>\n",
       "    </tr>\n",
       "    <tr>\n",
       "      <th>...</th>\n",
       "      <td>...</td>\n",
       "      <td>...</td>\n",
       "      <td>...</td>\n",
       "      <td>...</td>\n",
       "      <td>...</td>\n",
       "      <td>...</td>\n",
       "      <td>...</td>\n",
       "      <td>...</td>\n",
       "      <td>...</td>\n",
       "    </tr>\n",
       "    <tr>\n",
       "      <th>4356</th>\n",
       "      <td>4 October 2000</td>\n",
       "      <td>tt0111161</td>\n",
       "      <td>ur0690751</td>\n",
       "      <td>0</td>\n",
       "      <td>[movies, really, need, 2, hours, develop, stor...</td>\n",
       "      <td>7</td>\n",
       "      <td>Unnecessarily long, but still excellent.</td>\n",
       "      <td>[(movies, really), (really, need), (need, 2), ...</td>\n",
       "      <td>movies really really need need 2 2 hours hours...</td>\n",
       "    </tr>\n",
       "    <tr>\n",
       "      <th>4357</th>\n",
       "      <td>4 August 2000</td>\n",
       "      <td>tt0111161</td>\n",
       "      <td>ur0819902</td>\n",
       "      <td>0</td>\n",
       "      <td>[due, respect, people, complain, stark, good, ...</td>\n",
       "      <td>10</td>\n",
       "      <td>Quite possibly the best movie ever made</td>\n",
       "      <td>[(due, respect), (respect, people), (people, c...</td>\n",
       "      <td>due respect respect people people complain com...</td>\n",
       "    </tr>\n",
       "    <tr>\n",
       "      <th>4358</th>\n",
       "      <td>26 July 2000</td>\n",
       "      <td>tt0111161</td>\n",
       "      <td>ur0562732</td>\n",
       "      <td>0</td>\n",
       "      <td>[every, single, scene, shawshank, redemption, ...</td>\n",
       "      <td>9</td>\n",
       "      <td>Every once in a long while a truly inspiring f...</td>\n",
       "      <td>[(every, single), (single, scene), (scene, sha...</td>\n",
       "      <td>every single single scene scene shawshank shaw...</td>\n",
       "    </tr>\n",
       "    <tr>\n",
       "      <th>4359</th>\n",
       "      <td>26 February 2004</td>\n",
       "      <td>tt0111161</td>\n",
       "      <td>ur2693433</td>\n",
       "      <td>0</td>\n",
       "      <td>[beginning, thought, would, another, annoying,...</td>\n",
       "      <td>10</td>\n",
       "      <td>The second place (Top 250) is unfair for this ...</td>\n",
       "      <td>[(beginning, thought), (thought, would), (woul...</td>\n",
       "      <td>beginning thought thought would would another ...</td>\n",
       "    </tr>\n",
       "    <tr>\n",
       "      <th>4360</th>\n",
       "      <td>10 June 2000</td>\n",
       "      <td>tt0111161</td>\n",
       "      <td>ur0365713</td>\n",
       "      <td>0</td>\n",
       "      <td>[years, come, shawshank, redemtion, seen, clas...</td>\n",
       "      <td>9</td>\n",
       "      <td>A Story about triumph over adversity</td>\n",
       "      <td>[(years, come), (come, shawshank), (shawshank,...</td>\n",
       "      <td>years come come shawshank shawshank redemtion ...</td>\n",
       "    </tr>\n",
       "  </tbody>\n",
       "</table>\n",
       "<p>4361 rows × 9 columns</p>\n",
       "</div>"
      ],
      "text/plain": [
       "           review_date   movie_id    user_id  is_spoiler  \\\n",
       "0     10 February 2006  tt0111161  ur1898687           1   \n",
       "1     6 September 2000  tt0111161  ur0842118           1   \n",
       "2        3 August 2001  tt0111161  ur1285640           1   \n",
       "3     1 September 2002  tt0111161  ur1003471           1   \n",
       "4          20 May 2004  tt0111161  ur0226855           1   \n",
       "...                ...        ...        ...         ...   \n",
       "4356    4 October 2000  tt0111161  ur0690751           0   \n",
       "4357     4 August 2000  tt0111161  ur0819902           0   \n",
       "4358      26 July 2000  tt0111161  ur0562732           0   \n",
       "4359  26 February 2004  tt0111161  ur2693433           0   \n",
       "4360      10 June 2000  tt0111161  ur0365713           0   \n",
       "\n",
       "                                            review_text  rating  \\\n",
       "0     [oscar, year, shawshank, redemption, written, ...      10   \n",
       "1     [shawshank, redemption, without, doubt, one, b...      10   \n",
       "2     [believe, film, best, story, ever, told, film,...       8   \n",
       "3     [yes, spoilers, herethis, film, emotional, imp...      10   \n",
       "4     [heart, extraordinary, movie, brilliant, indel...       8   \n",
       "...                                                 ...     ...   \n",
       "4356  [movies, really, need, 2, hours, develop, stor...       7   \n",
       "4357  [due, respect, people, complain, stark, good, ...      10   \n",
       "4358  [every, single, scene, shawshank, redemption, ...       9   \n",
       "4359  [beginning, thought, would, another, annoying,...      10   \n",
       "4360  [years, come, shawshank, redemtion, seen, clas...       9   \n",
       "\n",
       "                                         review_summary  \\\n",
       "0         A classic piece of unforgettable film-making.   \n",
       "1            Simply amazing. The best film of the 90's.   \n",
       "2                      The best story ever told on film   \n",
       "3                            Busy dying or busy living?   \n",
       "4                Great story, wondrously told and acted   \n",
       "...                                                 ...   \n",
       "4356           Unnecessarily long, but still excellent.   \n",
       "4357            Quite possibly the best movie ever made   \n",
       "4358  Every once in a long while a truly inspiring f...   \n",
       "4359  The second place (Top 250) is unfair for this ...   \n",
       "4360               A Story about triumph over adversity   \n",
       "\n",
       "                                                bigrams  \\\n",
       "0     [(oscar, year), (year, shawshank), (shawshank,...   \n",
       "1     [(shawshank, redemption), (redemption, without...   \n",
       "2     [(believe, film), (film, best), (best, story),...   \n",
       "3     [(yes, spoilers), (spoilers, herethis), (heret...   \n",
       "4     [(heart, extraordinary), (extraordinary, movie...   \n",
       "...                                                 ...   \n",
       "4356  [(movies, really), (really, need), (need, 2), ...   \n",
       "4357  [(due, respect), (respect, people), (people, c...   \n",
       "4358  [(every, single), (single, scene), (scene, sha...   \n",
       "4359  [(beginning, thought), (thought, would), (woul...   \n",
       "4360  [(years, come), (come, shawshank), (shawshank,...   \n",
       "\n",
       "                                            bigram_text  \n",
       "0     oscar year year shawshank shawshank redemption...  \n",
       "1     shawshank redemption redemption without withou...  \n",
       "2     believe film film best best story story ever e...  \n",
       "3     yes spoilers spoilers herethis herethis film f...  \n",
       "4     heart extraordinary extraordinary movie movie ...  \n",
       "...                                                 ...  \n",
       "4356  movies really really need need 2 2 hours hours...  \n",
       "4357  due respect respect people people complain com...  \n",
       "4358  every single single scene scene shawshank shaw...  \n",
       "4359  beginning thought thought would would another ...  \n",
       "4360  years come come shawshank shawshank redemtion ...  \n",
       "\n",
       "[4361 rows x 9 columns]"
      ]
     },
     "execution_count": 22,
     "metadata": {},
     "output_type": "execute_result"
    }
   ],
   "source": [
    "temp = imdb_reviews[imdb_reviews['movie_id']=='tt0111161']\n",
    "vectorizer = CountVectorizer()\n",
    "matrix = vectorizer.fit_transform(temp['bigram_text'])\n",
    "temp"
   ]
  },
  {
   "cell_type": "code",
   "execution_count": 17,
   "metadata": {},
   "outputs": [
    {
     "name": "stdout",
     "output_type": "stream",
     "text": [
      "0    oscar year year shawshank shawshank redemption...\n",
      "1    shawshank redemption redemption without withou...\n",
      "2    believe film film best best story story ever e...\n",
      "3    yes spoilers spoilers herethis herethis film f...\n",
      "4    heart extraordinary extraordinary movie movie ...\n",
      "Name: bigram_text, dtype: object\n"
     ]
    }
   ],
   "source": [
    "# Assuming the code for generating 'bigram_text' is executed\n",
    "print(imdb_reviews['bigram_text'].head())\n"
   ]
  },
  {
   "cell_type": "code",
   "execution_count": 30,
   "metadata": {},
   "outputs": [
    {
     "name": "stdout",
     "output_type": "stream",
     "text": [
      "Accuracy: 0.736540664375716\n",
      "Confusion Matrix:\n",
      " [[575  88]\n",
      " [142  68]]\n"
     ]
    }
   ],
   "source": [
    "from sklearn.model_selection import train_test_split\n",
    "from sklearn.linear_model import LogisticRegression\n",
    "from sklearn.metrics import accuracy_score, confusion_matrix\n",
    "\n",
    "# X: Features, y: Target variable\n",
    "X = matrix # Assuming 'rating' and 'bigram_text' are features\n",
    "y = temp['is_spoiler']\n",
    "\n",
    "# Split data into training and testing sets\n",
    "X_train, X_test, y_train, y_test = train_test_split(X, y, test_size=0.2, random_state=42)\n",
    "\n",
    "# Initialize and train a logistic regression model\n",
    "model = LogisticRegression(max_iter=10000)\n",
    "model.fit(X_train, y_train)\n",
    "\n",
    "# Predict on the test set\n",
    "predictions = model.predict(X_test)\n",
    "\n",
    "# Evaluate the model\n",
    "accuracy = accuracy_score(y_test, predictions)\n",
    "conf_matrix = confusion_matrix(y_test, predictions)\n",
    "print(\"Accuracy:\", accuracy)\n",
    "print(\"Confusion Matrix:\\n\", conf_matrix)\n"
   ]
  },
  {
   "cell_type": "code",
   "execution_count": null,
   "metadata": {},
   "outputs": [],
   "source": []
  }
 ],
 "metadata": {
  "colab": {
   "provenance": []
  },
  "kernelspec": {
   "display_name": "Python 3",
   "language": "python",
   "name": "python3"
  },
  "language_info": {
   "codemirror_mode": {
    "name": "ipython",
    "version": 3
   },
   "file_extension": ".py",
   "mimetype": "text/x-python",
   "name": "python",
   "nbconvert_exporter": "python",
   "pygments_lexer": "ipython3",
   "version": "3.9.5"
  }
 },
 "nbformat": 4,
 "nbformat_minor": 1
}
